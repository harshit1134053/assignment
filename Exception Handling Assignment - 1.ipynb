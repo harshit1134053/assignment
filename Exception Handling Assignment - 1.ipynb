{
 "cells": [
  {
   "cell_type": "raw",
   "id": "5a09d968-6c4d-4cd7-b914-e51477bdca5b",
   "metadata": {},
   "source": [
    "Answer1: Python raises exceptions during program execution, disrupting the normal flow of instructions. These exceptions can be caught and handled by          appropriate code, and can occur for various reasons like attempting to divide by zero, accessing an index beyond a list, or opening a non-            existent file.\n",
    "         \n",
    "         Difference between exception and syntax error :\n",
    "         \n",
    "Nature of Error:\n",
    "• Syntax Error: Incorrect code structure violation, detected by Python interpreter during parsing phase.\n",
    "• Exception: Exceptions occur during program execution, not detected until execution.\n",
    "\n",
    "Detection Time:\n",
    "• Syntax Error: Detected by Python interpreter during parsing phase.\n",
    "• Exception: Detected during program execution when exceptional condition arises.\n",
    "\n",
    "Handling Mechanism:\n",
    "• Syntax Error: Resolved before program execution, often related to code structure.\n",
    "• Exception: Handled using try and except blocks, preventing program crashes.\n",
    "\n"
   ]
  },
  {
   "cell_type": "raw",
   "id": "fac1d4b0-3dce-4f78-949f-8de4099c6f3b",
   "metadata": {},
   "source": [
    "Answer2: \n",
    "When an exception is not handled in Python, it propagates up the call stack until it either reaches the top level of the program or encounters an appropriate exception handler. If no handler is found, the program terminates, and an error message is displayed.\n",
    "\n",
    "\n",
    "To prevent the program from terminating abruptly, you can use a try and except block to catch and handle the exception. For example:\n",
    "\n"
   ]
  },
  {
   "cell_type": "code",
   "execution_count": 1,
   "id": "5cf36dfc-8b88-4cc4-a8b6-aec6965a3850",
   "metadata": {},
   "outputs": [
    {
     "name": "stdout",
     "output_type": "stream",
     "text": [
      "Error: Cannot divide by zero!\n",
      "Result: None\n"
     ]
    }
   ],
   "source": [
    "def divide_numbers(a, b):\n",
    "    try:\n",
    "        result = a / b\n",
    "        return result\n",
    "    except ZeroDivisionError:\n",
    "        print(\"Error: Cannot divide by zero!\")\n",
    "\n",
    "result = divide_numbers(10, 0)\n",
    "print(\"Result:\", result)\n"
   ]
  },
  {
   "cell_type": "raw",
   "id": "cdbb9f73-65a8-4e24-b9c6-7e65504c498e",
   "metadata": {},
   "source": [
    "In this modified example, the try block attempts the division, and if a ZeroDivisionError occurs, the except block is executed, printing an error message. The program continues to run, and the subsequent line (print(\"Result:\", result)) will be executed, even if an exception occurs during the division."
   ]
  },
  {
   "cell_type": "raw",
   "id": "7cc39cdc-fdf8-4855-ac15-9cf5b5c5948f",
   "metadata": {},
   "source": [
    "Answer3: In Python, the try, except, else, and finally statements are used to catch and handle exceptions. Here's a brief explanation of each:\n",
    "\n",
    "try block:\n",
    "\n",
    "The try block is used to enclose the code that might raise an exception.\n",
    "If an exception occurs within the try block, the control is transferred to the nearest except block.\n",
    "except block:\n",
    "\n",
    "The except block specifies the type of exception it can handle.\n",
    "If an exception of the specified type occurs in the corresponding try block, the code in the except block is executed.\n",
    "else block (optional):\n",
    "\n",
    "The else block is executed if no exceptions are raised in the try block.\n",
    "It is often used to perform actions that should only occur when no exceptions occurred.\n",
    "finally block (optional):\n",
    "\n",
    "The finally block is always executed, regardless of whether an exception occurred or not.\n",
    "It is commonly used for cleanup actions, such as closing files or releasing resources."
   ]
  },
  {
   "cell_type": "code",
   "execution_count": 4,
   "id": "064c0d48-871e-42a6-981a-24d7a4536ccc",
   "metadata": {},
   "outputs": [],
   "source": [
    "def divide_numbers(a, b):\n",
    "    try:\n",
    "        result = a / b\n",
    "    except ZeroDivisionError:\n",
    "        print(\"Error: Cannot divide by zero!\")\n",
    "    else:\n",
    "        print(\"Division successful. Result:\", result)\n",
    "    finally:\n",
    "        print(\"This block always executes, whether an exception occurred or not.\")\n"
   ]
  },
  {
   "cell_type": "raw",
   "id": "6f81f195-deb0-4ae9-be34-0f9bf45a6a17",
   "metadata": {},
   "source": [
    "In this example, the try block attempts to perform division. If a ZeroDivisionError occurs, the control is transferred to the except block, printing an error message. If no exception occurs, the else block prints the result. The finally block is always executed, providing a place for cleanup actions."
   ]
  },
  {
   "cell_type": "raw",
   "id": "bdcb7395-7bcf-4be1-b5c4-6bf228e984f8",
   "metadata": {},
   "source": [
    "Answer4: a) In Python, the try and else blocks are used together to handle exceptions more precisely. The try block contains the code that might raise an exception, and the else block contains code that should only run if no exceptions occurred in the try block.\n",
    "\n",
    "\n",
    "\n",
    "try block:\n",
    "\n",
    "The try block encloses the code that may potentially raise an exception.\n",
    "If an exception occurs within the try block, the control is transferred to the nearest except block that matches the type of the exception.\n",
    "else block:\n",
    "\n",
    "The else block contains code that should only run if no exceptions occurred in the try block.\n",
    "It is optional, and it provides a way to distinguish between the normal execution of code and the execution when an exception occurs."
   ]
  },
  {
   "cell_type": "code",
   "execution_count": 5,
   "id": "58cb5e53-4731-4ace-81f1-ba442000a678",
   "metadata": {},
   "outputs": [
    {
     "name": "stdout",
     "output_type": "stream",
     "text": [
      "Division successful. Result: 5.0\n",
      "Error: Cannot divide by zero!\n"
     ]
    }
   ],
   "source": [
    "def divide_numbers(a, b):\n",
    "    try:\n",
    "        result = a / b\n",
    "    except ZeroDivisionError:\n",
    "        print(\"Error: Cannot divide by zero!\")\n",
    "    else:\n",
    "        print(\"Division successful. Result:\", result)\n",
    "\n"
   ]
  },
  {
   "cell_type": "raw",
   "id": "af1b8bbd-62c6-45e2-b624-12e073243c0f",
   "metadata": {},
   "source": [
    "Answer4 : b) The finally block in Python is used to define a block of code that will be executed no matter what, whether an exception occurs or not. It is typically used for cleanup activities or releasing resources that need to be done regardless of whether an exception is raised or not.\n",
    "\n",
    "The finally block is executed after the try block, and if an exception is raised, it's executed after the corresponding except block (if any). "
   ]
  },
  {
   "cell_type": "code",
   "execution_count": 6,
   "id": "cc7c4298-dfc0-4b9f-b3bd-f7336109d8d1",
   "metadata": {},
   "outputs": [
    {
     "name": "stdout",
     "output_type": "stream",
     "text": [
      "Division successful. Result: 5.0\n",
      "This block always executes, whether an exception occurred or not.\n",
      "Error: Cannot divide by zero!\n",
      "This block always executes, whether an exception occurred or not.\n"
     ]
    }
   ],
   "source": [
    "def divide_numbers(a, b):\n",
    "    try:\n",
    "        result = a / b\n",
    "    except ZeroDivisionError:\n",
    "        print(\"Error: Cannot divide by zero!\")\n",
    "    else:\n",
    "        print(\"Division successful. Result:\", result)\n",
    "    finally:\n",
    "        print(\"This block always executes, whether an exception occurred or not.\")\n",
    "\n",
    "# Example 1: Division by a non-zero number\n",
    "divide_numbers(10, 2)\n",
    "# Output:\n",
    "# Division successful. Result: 5.0\n",
    "# This block always executes, whether an exception occurred or not.\n",
    "\n",
    "# Example 2: Division by zero\n",
    "divide_numbers(10, 0)\n",
    "# Output:\n",
    "# Error: Cannot divide by zero!\n",
    "# This block always executes, whether an exception occurred or not.\n"
   ]
  },
  {
   "cell_type": "raw",
   "id": "623cab7d-9225-4788-864b-bec57c3a667c",
   "metadata": {},
   "source": [
    "Answer 4: c)  \n",
    "The raise statement in Python is used to explicitly raise an exception. It allows you to signal that an exceptional event has occurred in your code, even if the usual conditions for an exception haven't been met. You can use raise to interrupt the normal flow of your program and trigger an exception, either built-in or custom.\n",
    "\n",
    "The basic syntax of the raise statement is as follows:"
   ]
  },
  {
   "cell_type": "code",
   "execution_count": null,
   "id": "d1fb352f-25d2-424c-8337-889e72a80ad3",
   "metadata": {},
   "outputs": [],
   "source": [
    "raise ExceptionType(\"Optional error message\")\n"
   ]
  },
  {
   "cell_type": "raw",
   "id": "8d68041a-129f-4aec-944d-522bdcf5a524",
   "metadata": {},
   "source": [
    "Answer 5: Custom exceptions in Python are user-defined exception classes that extend the base Exception class or any of its subclasses. These exceptions are created to handle specific error conditions or situations that are unique to a particular application or module. By defining custom exceptions, you can provide more meaningful and descriptive error messages, making it easier to identify and troubleshoot issues in your code.\n",
    "\n",
    "\n",
    "\n",
    "Custom exceptions in Python are user-defined exception classes that extend the base Exception class or any of its subclasses. These exceptions are created to handle specific error conditions or situations that are unique to a particular application or module. By defining custom exceptions, you can provide more meaningful and descriptive error messages, making it easier to identify and troubleshoot issues in your code.\n",
    "\n",
    "Why do we need custom exceptions?\n",
    "\n",
    "Specificity:\n",
    "\n",
    "Custom exceptions allow you to create more specific and meaningful error types tailored to your application's requirements.\n",
    "This makes it easier for developers to understand and handle specific error scenarios.\n",
    "Modularity:\n",
    "\n",
    "When building large applications with multiple modules or components, custom exceptions help encapsulate errors within specific areas of code.\n",
    "This enhances the modularity of your code, making it easier to maintain and update.\n",
    "Clarity and Readability:\n",
    "\n",
    "Custom exceptions contribute to code clarity by indicating the intent behind an exception.\n",
    "Clear and well-named custom exceptions improve code readability, making it easier for others (or yourself) to understand the purpose of exception handling.\n",
    "Centralized Handling:\n",
    "\n",
    "With custom exceptions, you can centralize the handling of specific errors. This simplifies the overall exception-handling strategy in your code."
   ]
  },
  {
   "cell_type": "code",
   "execution_count": 8,
   "id": "9612d439-c5f4-4e94-896f-46dc2e80eec0",
   "metadata": {},
   "outputs": [
    {
     "name": "stdout",
     "output_type": "stream",
     "text": [
      "Error: Insufficient funds: Account balance is 100 but attempted to withdraw 150\n"
     ]
    }
   ],
   "source": [
    "class InsufficientFundsError(Exception):\n",
    "    def __init__(self, account_balance, withdrawal_amount):\n",
    "        self.account_balance = account_balance\n",
    "        self.withdrawal_amount = withdrawal_amount\n",
    "        super().__init__(\"Insufficient funds: Account balance is {} but attempted to withdraw {}\".format(account_balance, withdrawal_amount))\n",
    "\n",
    "class BankAccount:\n",
    "    def __init__(self, balance):\n",
    "        self.balance = balance\n",
    "\n",
    "    def withdraw(self, amount):\n",
    "        if amount > self.balance:\n",
    "            raise InsufficientFundsError(self.balance, amount)\n",
    "        else:\n",
    "            self.balance -= amount\n",
    "            print(\"Withdrawal successful. Remaining balance:\", self.balance)\n",
    "\n",
    "\n",
    "try:\n",
    "    account = BankAccount(100)\n",
    "    account.withdraw(150)\n",
    "except InsufficientFundsError as e:\n",
    "    print(\"Error:\", e)\n"
   ]
  },
  {
   "cell_type": "raw",
   "id": "5e804904-a75d-473a-b17b-b81b7c343593",
   "metadata": {},
   "source": [
    "Answer 6: "
   ]
  },
  {
   "cell_type": "code",
   "execution_count": 9,
   "id": "4869ee0c-5ebe-4916-8158-ac874dc393e7",
   "metadata": {},
   "outputs": [
    {
     "name": "stdout",
     "output_type": "stream",
     "text": [
      "Error: Invalid input: abc\n"
     ]
    }
   ],
   "source": [
    "class InvalidInputError(Exception):\n",
    "    def __init__(self, input_value):\n",
    "        self.input_value = input_value\n",
    "        super().__init__(\"Invalid input: {}\".format(input_value))\n",
    "\n",
    "def process_input(value):\n",
    "    if not isinstance(value, int):\n",
    "        raise InvalidInputError(value)\n",
    "    else:\n",
    "        print(\"Processing successful for input:\", value)\n",
    "\n",
    "# Example usage\n",
    "try:\n",
    "    user_input = \"abc\"  # Replace with any input you want to test\n",
    "    process_input(user_input)\n",
    "except InvalidInputError as e:\n",
    "    print(\"Error:\", e)\n"
   ]
  },
  {
   "cell_type": "code",
   "execution_count": null,
   "id": "ea882513-70de-46f1-bbd6-ffd29e7055e8",
   "metadata": {},
   "outputs": [],
   "source": []
  }
 ],
 "metadata": {
  "kernelspec": {
   "display_name": "Python 3 (ipykernel)",
   "language": "python",
   "name": "python3"
  },
  "language_info": {
   "codemirror_mode": {
    "name": "ipython",
    "version": 3
   },
   "file_extension": ".py",
   "mimetype": "text/x-python",
   "name": "python",
   "nbconvert_exporter": "python",
   "pygments_lexer": "ipython3",
   "version": "3.10.8"
  }
 },
 "nbformat": 4,
 "nbformat_minor": 5
}

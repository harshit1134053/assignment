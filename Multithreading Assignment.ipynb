{
 "cells": [
  {
   "cell_type": "raw",
   "id": "087b0577-a4f0-4314-9a1f-01a5d0e67c3c",
   "metadata": {},
   "source": [
    "Answer 1: \n",
    "    Multithreading in Python refers to the concurrent execution of multiple threads (smaller units of a process) to perform multiple tasks simultaneously. Python's Global Interpreter Lock (GIL) can sometimes limit the effectiveness of multithreading for CPU-bound tasks, as it allows only one thread to execute Python bytecode at a time in a single process. However, multithreading can still be beneficial for I/O-bound tasks or situations where the threads spend a significant amount of time waiting for external resources.\n",
    "\n",
    "The threading module in Python is commonly used to handle threads. This module provides a way to create and manage threads, allowing developers to write concurrent programs. Threads created using the threading module can run in the same process and share the same data space, making it easier to coordinate their activities."
   ]
  },
  {
   "cell_type": "code",
   "execution_count": 1,
   "id": "7fa7bb6b-d1b7-447e-a3b3-c78934aa2d77",
   "metadata": {},
   "outputs": [
    {
     "name": "stdout",
     "output_type": "stream",
     "text": [
      "0\n",
      "1\n",
      "2\n",
      "3\n",
      "4\n",
      "A\n",
      "B\n",
      "C\n",
      "D\n",
      "E\n",
      "Both threads have finished.\n"
     ]
    }
   ],
   "source": [
    "import threading\n",
    "\n",
    "def print_numbers():\n",
    "    for i in range(5):\n",
    "        print(i)\n",
    "\n",
    "def print_letters():\n",
    "    for letter in 'ABCDE':\n",
    "        print(letter)\n",
    "\n",
    "# Create two threads\n",
    "thread1 = threading.Thread(target=print_numbers)\n",
    "thread2 = threading.Thread(target=print_letters)\n",
    "\n",
    "# Start the threads\n",
    "thread1.start()\n",
    "thread2.start()\n",
    "\n",
    "# Wait for both threads to finish\n",
    "thread1.join()\n",
    "thread2.join()\n",
    "\n",
    "print(\"Both threads have finished.\")\n"
   ]
  },
  {
   "cell_type": "raw",
   "id": "ac69a475-eaed-4fc9-b0ed-d2de01c2b733",
   "metadata": {},
   "source": [
    "In this example, two threads (thread1 and thread2) are created, each with a specific target function (print_numbers and print_letters). The start() method initiates the execution of the threads, and the join() method is used to wait for their completion. The output may not be perfectly interleaved due to the GIL, but for I/O-bound tasks, multithreading can still provide benefits by allowing other threads to execute while one is waiting for I/O operations to complete.\n",
    "\n",
    "\n",
    "\n",
    "\n",
    "\n"
   ]
  },
  {
   "cell_type": "raw",
   "id": "795b5391-a379-43f1-b082-9782351f1831",
   "metadata": {},
   "source": [
    "Answer 2: \n",
    "The threading module in Python is used for creating and managing threads in a concurrent program. It provides a way to work with threads, allowing developers to write programs that can perform multiple tasks simultaneously. Here are the uses of the functions you mentioned:\n",
    "\n",
    "activeCount() function:\n",
    "\n",
    "Use: This function returns the number of Thread objects currently alive. A \"Thread object\" corresponds to an active thread in the program.\n",
    "Example:"
   ]
  },
  {
   "cell_type": "code",
   "execution_count": 2,
   "id": "441bc2d4-80cd-4416-aef8-9e55c9109d3a",
   "metadata": {},
   "outputs": [
    {
     "name": "stdout",
     "output_type": "stream",
     "text": [
      "Thread function\n",
      "Thread function\n",
      "Number of active threads: 8\n"
     ]
    },
    {
     "name": "stderr",
     "output_type": "stream",
     "text": [
      "/tmp/ipykernel_103/1844976669.py:15: DeprecationWarning: activeCount() is deprecated, use active_count() instead\n",
      "  active_threads = threading.activeCount()\n"
     ]
    }
   ],
   "source": [
    "import threading\n",
    "\n",
    "def my_function():\n",
    "    print(\"Thread function\")\n",
    "\n",
    "# Create two threads\n",
    "thread1 = threading.Thread(target=my_function)\n",
    "thread2 = threading.Thread(target=my_function)\n",
    "\n",
    "# Start the threads\n",
    "thread1.start()\n",
    "thread2.start()\n",
    "\n",
    "# Get the number of active threads\n",
    "active_threads = threading.activeCount()\n",
    "print(f\"Number of active threads: {active_threads}\")\n"
   ]
  },
  {
   "cell_type": "raw",
   "id": "2af08b02-c537-4092-af04-65d42988be91",
   "metadata": {},
   "source": [
    "currentThread() function:\n",
    "\n",
    "Use: This function returns the current Thread object corresponding to the calling thread.\n",
    "Example:"
   ]
  },
  {
   "cell_type": "code",
   "execution_count": 3,
   "id": "498d498c-6ef9-4524-ac44-f3457b4a1995",
   "metadata": {},
   "outputs": [
    {
     "name": "stdout",
     "output_type": "stream",
     "text": [
      "Current thread: Thread-9 (print_current_thread)\n"
     ]
    }
   ],
   "source": [
    "import threading\n",
    "\n",
    "def print_current_thread():\n",
    "    current_thread = threading.current_thread()\n",
    "    print(f\"Current thread: {current_thread.name}\")\n",
    "\n",
    "# Create a thread\n",
    "my_thread = threading.Thread(target=print_current_thread)\n",
    "\n",
    "# Start the thread\n",
    "my_thread.start()\n"
   ]
  },
  {
   "cell_type": "raw",
   "id": "f7fadcdd-8cea-44bc-bb50-860abda2842d",
   "metadata": {},
   "source": [
    "enumerate() function:\n",
    "\n",
    "Use: This function returns a list of all Thread objects currently alive. Each Thread object corresponds to an active thread in the program. The list includes the main thread as well.\n",
    "Example:"
   ]
  },
  {
   "cell_type": "code",
   "execution_count": 4,
   "id": "9b875f0d-b308-4b4c-931b-eb95c0b77958",
   "metadata": {},
   "outputs": [
    {
     "name": "stdout",
     "output_type": "stream",
     "text": [
      "Thread function\n",
      "Thread function\n",
      "All active threads:\n",
      "MainThread\n",
      "IOPub\n",
      "Heartbeat\n",
      "Thread-3 (_watch_pipe_fd)\n",
      "Thread-4 (_watch_pipe_fd)\n",
      "Control\n",
      "IPythonHistorySavingThread\n",
      "Thread-2\n"
     ]
    }
   ],
   "source": [
    "import threading\n",
    "\n",
    "def my_function():\n",
    "    print(\"Thread function\")\n",
    "\n",
    "# Create two threads\n",
    "thread1 = threading.Thread(target=my_function)\n",
    "thread2 = threading.Thread(target=my_function)\n",
    "\n",
    "# Start the threads\n",
    "thread1.start()\n",
    "thread2.start()\n",
    "\n",
    "# Enumerate all active threads\n",
    "all_threads = threading.enumerate()\n",
    "print(\"All active threads:\")\n",
    "for thread in all_threads:\n",
    "    print(thread.name)\n"
   ]
  },
  {
   "cell_type": "raw",
   "id": "c3211814-6029-459e-921e-2f621f1befe9",
   "metadata": {},
   "source": [
    "Answer 3:run() method:\n",
    "\n",
    "Use: The run() method is not directly called by the programmer in the Thread class. Instead, it is the method that is executed when you start a thread using the start() method. You can override this method in a subclass of Thread to define the code that should be executed when the thread is started.\n",
    "Example:"
   ]
  },
  {
   "cell_type": "code",
   "execution_count": 5,
   "id": "d11d0de0-20f3-4ee1-a376-11e82011c5aa",
   "metadata": {},
   "outputs": [
    {
     "name": "stdout",
     "output_type": "stream",
     "text": [
      "Thread is running\n"
     ]
    }
   ],
   "source": [
    "import threading\n",
    "\n",
    "class MyThread(threading.Thread):\n",
    "    def run(self):\n",
    "        print(\"Thread is running\")\n",
    "\n",
    "# Create an instance of MyThread\n",
    "my_thread = MyThread()\n",
    "\n",
    "# Start the thread (automatically calls the run() method)\n",
    "my_thread.start()\n"
   ]
  },
  {
   "cell_type": "raw",
   "id": "a9288982-5de0-457f-b201-9b159e084d78",
   "metadata": {},
   "source": [
    "start() method:\n",
    "\n",
    "Use: The start() method is used to initiate the execution of the thread. It internally calls the run() method. Once a thread is started, it will execute the code specified in the run() method in a separate thread of control.\n",
    "Example:"
   ]
  },
  {
   "cell_type": "code",
   "execution_count": 6,
   "id": "b5289db8-3ef7-46ff-b3df-053647200f50",
   "metadata": {},
   "outputs": [
    {
     "name": "stdout",
     "output_type": "stream",
     "text": [
      "Thread function\n"
     ]
    }
   ],
   "source": [
    "import threading\n",
    "\n",
    "def my_function():\n",
    "    print(\"Thread function\")\n",
    "\n",
    "# Create a thread\n",
    "my_thread = threading.Thread(target=my_function)\n",
    "\n",
    "# Start the thread\n",
    "my_thread.start()\n"
   ]
  },
  {
   "cell_type": "raw",
   "id": "2f2ebee5-dfe1-4ed3-8ac3-a511b7987018",
   "metadata": {},
   "source": [
    "join() method:\n",
    "\n",
    "Use: The join() method is used to wait for a thread to complete its execution before moving on to the next part of the program. When you call join() on a thread, the program will wait until that thread finishes.\n",
    "Example:"
   ]
  },
  {
   "cell_type": "code",
   "execution_count": 7,
   "id": "cd8d3505-a7f5-433e-b226-b443e29855bf",
   "metadata": {},
   "outputs": [
    {
     "name": "stdout",
     "output_type": "stream",
     "text": [
      "Thread function\n"
     ]
    }
   ],
   "source": [
    "import threading\n",
    "\n",
    "def my_function():\n",
    "    print(\"Thread function\")\n",
    "\n",
    "# Create a thread\n",
    "my_thread = threading.Thread(target=my_function)\n",
    "\n",
    "# Start the thread\n",
    "my_thread.start()\n",
    "\n",
    "# Wait for the thread to finish before continuing\n",
    "my_thread.join()\n"
   ]
  },
  {
   "cell_type": "raw",
   "id": "a1f5a1bc-b6fc-4e2b-9eb2-e593d15866b2",
   "metadata": {},
   "source": [
    "isAlive() method:\n",
    "\n",
    "Use: The isAlive() method is used to check whether a thread is currently executing or not. It returns True if the thread is still running, and False otherwise.\n",
    "Example:"
   ]
  },
  {
   "cell_type": "code",
   "execution_count": 8,
   "id": "4a5db87e-09c8-4de3-8c2a-a1a04e2857de",
   "metadata": {},
   "outputs": [
    {
     "ename": "AttributeError",
     "evalue": "'Thread' object has no attribute 'isAlive'",
     "output_type": "error",
     "traceback": [
      "\u001b[0;31m---------------------------------------------------------------------------\u001b[0m",
      "\u001b[0;31mAttributeError\u001b[0m                            Traceback (most recent call last)",
      "Cell \u001b[0;32mIn[8], line 15\u001b[0m\n\u001b[1;32m     12\u001b[0m my_thread\u001b[38;5;241m.\u001b[39mstart()\n\u001b[1;32m     14\u001b[0m \u001b[38;5;66;03m# Check if the thread is alive\u001b[39;00m\n\u001b[0;32m---> 15\u001b[0m \u001b[38;5;28;01mif\u001b[39;00m \u001b[43mmy_thread\u001b[49m\u001b[38;5;241;43m.\u001b[39;49m\u001b[43misAlive\u001b[49m():\n\u001b[1;32m     16\u001b[0m     \u001b[38;5;28mprint\u001b[39m(\u001b[38;5;124m\"\u001b[39m\u001b[38;5;124mThread is still running\u001b[39m\u001b[38;5;124m\"\u001b[39m)\n\u001b[1;32m     17\u001b[0m \u001b[38;5;28;01melse\u001b[39;00m:\n",
      "\u001b[0;31mAttributeError\u001b[0m: 'Thread' object has no attribute 'isAlive'"
     ]
    },
    {
     "name": "stdout",
     "output_type": "stream",
     "text": [
      "Thread function\n"
     ]
    }
   ],
   "source": [
    "import threading\n",
    "import time\n",
    "\n",
    "def my_function():\n",
    "    time.sleep(2)\n",
    "    print(\"Thread function\")\n",
    "\n",
    "# Create a thread\n",
    "my_thread = threading.Thread(target=my_function)\n",
    "\n",
    "# Start the thread\n",
    "my_thread.start()\n",
    "\n",
    "# Check if the thread is alive\n",
    "if my_thread.isAlive():\n",
    "    print(\"Thread is still running\")\n",
    "else:\n",
    "    print(\"Thread has finished\")\n"
   ]
  },
  {
   "cell_type": "raw",
   "id": "a79f1902-edd0-49d5-9980-1203c7a2c559",
   "metadata": {},
   "source": [
    "Answer4: "
   ]
  },
  {
   "cell_type": "code",
   "execution_count": 9,
   "id": "528dadbc-ec66-4981-a390-d076af4829dd",
   "metadata": {},
   "outputs": [
    {
     "name": "stdout",
     "output_type": "stream",
     "text": [
      "Square of 1: 1\n",
      "Square of 2: 4\n",
      "Square of 3: 9\n",
      "Square of 4: 16\n",
      "Square of 5: 25\n",
      "Cube of 1: 1\n",
      "Cube of 2: 8\n",
      "Cube of 3: 27\n",
      "Cube of 4: 64\n",
      "Cube of 5: 125\n",
      "Both threads have finished.\n"
     ]
    }
   ],
   "source": [
    "import threading\n",
    "\n",
    "def print_squares():\n",
    "    for i in range(1, 6):\n",
    "        print(f\"Square of {i}: {i*i}\")\n",
    "\n",
    "def print_cubes():\n",
    "    for i in range(1, 6):\n",
    "        print(f\"Cube of {i}: {i*i*i}\")\n",
    "\n",
    "# Create two threads\n",
    "thread_squares = threading.Thread(target=print_squares)\n",
    "thread_cubes = threading.Thread(target=print_cubes)\n",
    "\n",
    "# Start the threads\n",
    "thread_squares.start()\n",
    "thread_cubes.start()\n",
    "\n",
    "# Wait for both threads to finish\n",
    "thread_squares.join()\n",
    "thread_cubes.join()\n",
    "\n",
    "print(\"Both threads have finished.\")\n"
   ]
  },
  {
   "cell_type": "raw",
   "id": "fe371d2a-93e2-4c1f-bdf6-757c225c9154",
   "metadata": {},
   "source": [
    "Answer 5:\n",
    "Advantages of Multithreading:\n",
    "\n",
    "Concurrency: Multithreading allows multiple threads to execute concurrently within the same process. This can improve the overall performance of a program, especially in situations where tasks can be parallelized.\n",
    "\n",
    "Responsiveness: Multithreading can enhance the responsiveness of an application by allowing certain tasks to continue executing while others are waiting for resources or performing I/O operations. This is particularly beneficial in graphical user interfaces (GUIs) and real-time systems.\n",
    "\n",
    "Resource Sharing: Threads within the same process share the same resources, such as memory space. This can lead to more efficient resource utilization compared to separate processes.\n",
    "\n",
    "Modularity: Multithreading facilitates modular design. Different aspects of a program can be implemented as separate threads, making it easier to understand, maintain, and extend the codebase.\n",
    "\n",
    "Parallelism: In situations where tasks can be performed simultaneously, such as in I/O-bound operations or asynchronous programming, multithreading can lead to parallelism and faster overall execution.\n",
    "\n",
    "Disadvantages of Multithreading:\n",
    "\n",
    "Complexity: Multithreaded programs can be more challenging to design, implement, and debug compared to single-threaded programs. Issues such as race conditions, deadlocks, and data inconsistencies may arise.\n",
    "\n",
    "Race Conditions: Race conditions occur when multiple threads access shared data concurrently, leading to unpredictable behavior. Proper synchronization mechanisms (e.g., locks) are needed to prevent race conditions.\n",
    "\n",
    "Deadlocks: Deadlocks can occur when threads are waiting for resources held by each other, resulting in a state where no progress can be made. Careful design and implementation are necessary to avoid deadlocks.\n",
    "\n",
    "Debugging: Debugging multithreaded programs is more complex than debugging single-threaded ones. Identifying the source of issues, especially when they are related to thread interactions, can be challenging.\n",
    "\n",
    "Overhead: Creating and managing threads incurs some overhead, including memory and processing power. In situations where the tasks are not well-suited for parallel execution, the overhead may outweigh the benefits of multithreading.\n",
    "\n",
    "Global Interpreter Lock (GIL): In CPython, the Global Interpreter Lock can limit the effectiveness of multithreading for CPU-bound tasks. It allows only one thread to execute Python bytecode at a time in a single process, reducing the potential for parallelism."
   ]
  },
  {
   "cell_type": "raw",
   "id": "6effeab5-e48a-4522-b88c-f93288fdf92b",
   "metadata": {},
   "source": [
    "Answer 6:\n",
    "Deadlocks:\n",
    "\n",
    "A deadlock is a situation in concurrent programming where two or more threads are unable to proceed because each is waiting for the other to release a resource. In other words, a set of processes or threads becomes deadlocked when each process or thread is waiting for an event that will only be caused by one of the other waiting processes or threads. This can result in a situation where none of the involved threads can make progress, leading to a system freeze.\n",
    "\n",
    "The classic conditions required for a deadlock to occur are often summarized using the following four necessary conditions:\n",
    "\n",
    "Mutual Exclusion: At least one resource must be held in a non-sharable mode, meaning only one process or thread can use it at a time.\n",
    "\n",
    "Hold and Wait: A process or thread must be holding at least one resource and waiting to acquire additional resources held by other processes or threads.\n",
    "\n",
    "No Preemption: Resources cannot be forcibly taken away from a process or thread; they must be released voluntarily.\n",
    "\n",
    "Circular Wait: A circular chain of two or more processes or threads, each waiting for a resource held by the next one in the chain, must exist.\n",
    "\n",
    "To avoid deadlocks, developers use various techniques such as proper resource allocation, avoiding circular wait conditions, and employing deadlock detection and recovery mechanisms.\n",
    "\n",
    "Race Conditions:\n",
    "\n",
    "A race condition occurs in concurrent programming when the behavior of a program depends on the relative timing of events, such as the order of execution of threads. These conditions can lead to unpredictable and undesired outcomes due to interleaved execution of instructions by multiple threads. Race conditions arise when multiple threads access shared data concurrently, and at least one of them modifies the data.\n",
    "\n",
    "Common scenarios that lead to race conditions include:\n",
    "\n",
    "Read-Modify-Write Operations: When multiple threads read a shared value, modify it, and write it back, the interleaved execution of these operations can result in unexpected values or corruption.\n",
    "\n",
    "Check-Then-Act Sequences: Situations where a thread checks the value of a variable and takes action based on that value can be problematic if another thread modifies the variable between the check and the subsequent action.\n",
    "\n",
    "Non-Atomic Operations: Operations that are not atomic (indivisible) can be problematic in a multithreaded environment. For example, a thread might be interrupted in the middle of updating a shared data structure, leading to inconsistency."
   ]
  }
 ],
 "metadata": {
  "kernelspec": {
   "display_name": "Python 3 (ipykernel)",
   "language": "python",
   "name": "python3"
  },
  "language_info": {
   "codemirror_mode": {
    "name": "ipython",
    "version": 3
   },
   "file_extension": ".py",
   "mimetype": "text/x-python",
   "name": "python",
   "nbconvert_exporter": "python",
   "pygments_lexer": "ipython3",
   "version": "3.10.8"
  }
 },
 "nbformat": 4,
 "nbformat_minor": 5
}

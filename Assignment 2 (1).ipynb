{
 "cells": [
  {
   "cell_type": "markdown",
   "id": "811434fc-9930-4697-9078-c026e3811674",
   "metadata": {},
   "source": [
    "Q1. How do you comment code in Python? What are the different types of comments?"
   ]
  },
  {
   "cell_type": "markdown",
   "id": "fc6b88da-73e0-47be-ae74-f8282e6d4a82",
   "metadata": {},
   "source": [
    "In Python, you can add comments to your code to provide explanatory notes or to disable certain lines of code temporarily. Python supports two types of comments:\n",
    "\n",
    "Single-line comments: To create a single-line comment, use the hash character (#) followed by the comment text. Python will ignore everything after the hash symbol on that line.\n",
    "    For Example.\n",
    "    #This is comment\n",
    "Multi-line comments: Although Python does not have a specific syntax for multi-line comments like some other programming languages, you can use triple quotes (\"\"\" or ''') to create a multi-line string, effectively achieving the same purpose. These multi-line strings are often used as documentation strings or docstrings for functions, classes, or modules.\n",
    "   For Example.\n",
    "    \n",
    "      \"\"\"This is a multi-line comment.\n",
    "      It can span multiple lines.\"\"\"\n"
   ]
  },
  {
   "cell_type": "markdown",
   "id": "b502e9fd-9be9-4dc0-9d86-a2bb734c6aea",
   "metadata": {},
   "source": [
    "Q2. What are variables in Python? How do you declare and assign values to variables?"
   ]
  },
  {
   "cell_type": "markdown",
   "id": "4037fb16-ec01-49b8-b6f0-af5fb9a33b08",
   "metadata": {},
   "source": [
    "In Python, variables are used to store data or values that can be referenced and manipulated throughout the program. A variable is essentially\n",
    "a named location in the computer's memory where you can store and retrieve data.\n",
    "    \n",
    " Declaring and assigning a value to a variable\n",
    "x = \"Hello, world!\"\n",
    "print(x)\n",
    "\n"
   ]
  },
  {
   "cell_type": "markdown",
   "id": "5eda2b41-541f-42a7-ba2b-7935a8eac3d8",
   "metadata": {},
   "source": [
    "Q3. How do you convert one data type to another in Python?"
   ]
  },
  {
   "cell_type": "markdown",
   "id": "484a5e8e-16b0-4952-8ecc-df93fa82cf40",
   "metadata": {},
   "source": [
    "In Python, you can convert one data type to another using type conversion functions or by using the constructor functions of the target data type.\n",
    "\n",
    "For Example:\n",
    "     Converting a string to an integer\n",
    "x = \"23\"\n",
    "y = int(x)\n",
    "      Converting an integer to a float\n",
    "x = 23\n",
    "y= float(x)\n",
    "      Converting a list to a tuple\n",
    "x = [1, 2, 3]\n",
    "y = tuple(x)\n",
    "     Converting an integer to a boolean\n",
    "x = 23\n",
    "y = bool(x)\n",
    "print(y)  # Output: True\n",
    "     Converting a list of tuples to a dictionary\n",
    "x = [(\"a\", 1), (\"b\", 2), (\"c\", 3)]\n",
    "y = dict(x)\n",
    "print(y)  # Output: {'a': 1, 'b': 2, 'c': 3}\n",
    "\n",
    "\n",
    "\n",
    "\n"
   ]
  },
  {
   "cell_type": "markdown",
   "id": "50c205d4-7f0d-46fe-9726-2cf4812e4579",
   "metadata": {},
   "source": [
    "Q4. How do you write and execute a Python script from the command line?"
   ]
  },
  {
   "cell_type": "markdown",
   "id": "8fe6dc17-1134-430b-97b3-9ce1da018f22",
   "metadata": {},
   "source": [
    "To write and execute a Python script from the command line,follow these steps:\n",
    "\n",
    "Open a text editor of your choice (e.g., Notepad, Visual Studio Code) and create a new file.\n",
    "\n",
    "Write your Python code in the text editor and save the file with a .py extension. For example, you can save it as jay.py.\n",
    "\n",
    "Open a command prompt.\n",
    "\n",
    "Navigate to the directory where you saved your Python script using the cd command. For example, if your script is saved on the program, you can\n",
    "navigate to the program directory like this:\n",
    "    cd program\n",
    "Once you are in the correct directory, you can execute the Python script using the python command followed by the name of your script file. For \n",
    "example:\n",
    "    python jay.py\n",
    "This will run your Python script, and any output or results will be displayed in the command prompt or terminal.\n",
    "\n",
    "It's important  for the above steps to work, you need to have Python installed on your system and added to the system's PATH environment\n",
    "variable. "
   ]
  },
  {
   "cell_type": "markdown",
   "id": "2c4ccd9d-cf91-40fc-8c8a-eaa734457b21",
   "metadata": {},
   "source": [
    "Q5. Given a list my_list = [1, 2, 3, 4, 5], write the code to slice the list and obtain the sub-list [2, 3]."
   ]
  },
  {
   "cell_type": "code",
   "execution_count": 1,
   "id": "d9cd3c31-67e6-4800-9167-c6728b0b4574",
   "metadata": {},
   "outputs": [
    {
     "data": {
      "text/plain": [
       "[2, 3]"
      ]
     },
     "execution_count": 1,
     "metadata": {},
     "output_type": "execute_result"
    }
   ],
   "source": [
    "my_list = [1, 2, 3, 4, 5]\n",
    "my_list[1:3:1]"
   ]
  },
  {
   "cell_type": "markdown",
   "id": "28469e53-8e5a-4a6a-aee3-d356e416d24c",
   "metadata": {},
   "source": [
    "Q6. What is a complex number in mathematics, and how is it represented in Python?"
   ]
  },
  {
   "cell_type": "markdown",
   "id": "64530fa6-3d88-4ac4-9eeb-f1222a3e118f",
   "metadata": {},
   "source": [
    "In mathematics, a complex number is a number that can be expressed in the form a + bi, where a and b are real numbers, and i is the imaginary\n",
    "unit (√-1).\n",
    "In Python, complex numbers are represented using the complex data type. The imaginary part of a complex number is denoted by appending j  to \n",
    "the numeric value.\n",
    "For Ex:\n",
    "    z1 = 2 + 1j\n",
    "     print(z1) \n",
    "        \n",
    "        # Output: (2+1j)"
   ]
  },
  {
   "cell_type": "markdown",
   "id": "a9e7e517-61f5-4208-8706-802ec073eb4e",
   "metadata": {},
   "source": [
    "Q7. What is the correct way to declare a variable named age and assign the value 25 to it?"
   ]
  },
  {
   "cell_type": "markdown",
   "id": "03c82257-fec0-420e-9499-81943eb1c37a",
   "metadata": {},
   "source": [
    "age = 25\n"
   ]
  },
  {
   "cell_type": "markdown",
   "id": "440a53a9-2995-4aa6-934c-cef8621458cf",
   "metadata": {},
   "source": [
    "Q8. Declare a variable named price and assign the value 9.99 to it. What data type does this variable\n",
    "belong to?"
   ]
  },
  {
   "cell_type": "code",
   "execution_count": 2,
   "id": "5e71d4a4-de15-4377-aafe-80f515629f81",
   "metadata": {},
   "outputs": [
    {
     "data": {
      "text/plain": [
       "float"
      ]
     },
     "execution_count": 2,
     "metadata": {},
     "output_type": "execute_result"
    }
   ],
   "source": [
    "price=9.99\n",
    "type(price)"
   ]
  },
  {
   "cell_type": "markdown",
   "id": "5640c8d5-df91-498a-a31f-54893bc22354",
   "metadata": {},
   "source": [
    "Q9. Create a variable named name and assign your full name to it as a string. How would you print the\n",
    "value of this variable?"
   ]
  },
  {
   "cell_type": "code",
   "execution_count": 3,
   "id": "e14a66a3-c204-4f8e-bbe1-7bb34206fcd3",
   "metadata": {},
   "outputs": [
    {
     "name": "stdout",
     "output_type": "stream",
     "text": [
      "Harshit Mishra\n"
     ]
    }
   ],
   "source": [
    "name=\"Harshit Mishra\"\n",
    "print(name)"
   ]
  },
  {
   "cell_type": "markdown",
   "id": "54fe2071-46db-4209-87e9-d5d3ccc2a0bf",
   "metadata": {},
   "source": [
    "Q10. Given the string \"Hello, World!\", extract the substring \"World\"."
   ]
  },
  {
   "cell_type": "code",
   "execution_count": 12,
   "id": "5b81c342-008c-4582-ac8c-b2ebb0803e6f",
   "metadata": {},
   "outputs": [
    {
     "name": "stdout",
     "output_type": "stream",
     "text": [
      "World\n"
     ]
    }
   ],
   "source": [
    "x=\"Hello, World!\"\n",
    "y=x[7:12]\n",
    "print(y)"
   ]
  },
  {
   "cell_type": "markdown",
   "id": "3004b80d-e64d-4f80-8c81-e05eadac461b",
   "metadata": {},
   "source": [
    "Q11. Create a variable named \"is_student\" and assign it a boolean value indicating whether you are\n",
    "currently a student or not."
   ]
  },
  {
   "cell_type": "code",
   "execution_count": null,
   "id": "6fde6af2-24cb-405d-9d84-0b51049c287c",
   "metadata": {},
   "outputs": [],
   "source": [
    "is_student=True   #When I am a student \n",
    "is_student= False  #When I am not a student"
   ]
  }
 ],
 "metadata": {
  "kernelspec": {
   "display_name": "Python 3 (ipykernel)",
   "language": "python",
   "name": "python3"
  },
  "language_info": {
   "codemirror_mode": {
    "name": "ipython",
    "version": 3
   },
   "file_extension": ".py",
   "mimetype": "text/x-python",
   "name": "python",
   "nbconvert_exporter": "python",
   "pygments_lexer": "ipython3",
   "version": "3.10.8"
  }
 },
 "nbformat": 4,
 "nbformat_minor": 5
}

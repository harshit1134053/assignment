{
 "cells": [
  {
   "cell_type": "markdown",
   "id": "05769d00-c9d9-4aa5-ae73-14cac467b455",
   "metadata": {},
   "source": [
    "Q1. What is Abstraction in OOps? Explain with an example."
   ]
  },
  {
   "cell_type": "markdown",
   "id": "58c60085-8077-4759-a9fd-a7e01862d482",
   "metadata": {},
   "source": [
    "In object-oriented programming (OOP), abstraction is a fundamental concept that allows us to represent complex real-world entities as simplified models in our code. It involves identifying and capturing only the essential characteristics and behavior of an object, while hiding unnecessary details that are not relevant to the current context.\n",
    "\n",
    "Abstraction is achieved through the use of abstract classes and interfaces in many programming languages. An abstract class serves as a blueprint for other classes and cannot be instantiated itself. It may contain both concrete (implemented) methods and abstract (unimplemented) methods. The abstract methods define a contract that any subclass inheriting from the abstract class must implement."
   ]
  },
  {
   "cell_type": "code",
   "execution_count": 1,
   "id": "91f56cd1-88c1-4d13-977b-14f8d7472f3a",
   "metadata": {},
   "outputs": [
    {
     "name": "stdout",
     "output_type": "stream",
     "text": [
      "15\n",
      "16\n",
      "153.86\n",
      "43.96\n"
     ]
    }
   ],
   "source": [
    "# Abstract class representing a shape\n",
    "class Shape:\n",
    "    def area(self):\n",
    "        pass\n",
    "\n",
    "    def perimeter(self):\n",
    "        pass\n",
    "\n",
    "# Concrete class representing a rectangle\n",
    "class Rectangle(Shape):\n",
    "    def __init__(self, length, width):\n",
    "        self.length = length\n",
    "        self.width = width\n",
    "\n",
    "    def area(self):\n",
    "        return self.length * self.width\n",
    "\n",
    "    def perimeter(self):\n",
    "        return 2 * (self.length + self.width)\n",
    "\n",
    "# Concrete class representing a circle\n",
    "class Circle(Shape):\n",
    "    def __init__(self, radius):\n",
    "        self.radius = radius\n",
    "\n",
    "    def area(self):\n",
    "        return 3.14 * self.radius * self.radius\n",
    "\n",
    "    def perimeter(self):\n",
    "        return 2 * 3.14 * self.radius\n",
    "\n",
    "\n",
    "rectangle = Rectangle(5, 3)\n",
    "circle = Circle(7)\n",
    "\n",
    "\n",
    "print(rectangle.area())    \n",
    "print(rectangle.perimeter())   \n",
    "print(circle.area())   \n",
    "print(circle.perimeter())  \n"
   ]
  },
  {
   "cell_type": "markdown",
   "id": "6f3e7217-4cf6-49ba-b8e1-1354f7e5f73f",
   "metadata": {},
   "source": [
    "Q2. Differentiate between Abstraction and Encapsulation. Explain with an example."
   ]
  },
  {
   "cell_type": "markdown",
   "id": "2f566b6c-3445-42c8-994b-0660f7b91e5f",
   "metadata": {},
   "source": [
    "Abstraction and encapsulation are two fundamental concepts in object-oriented programming (OOP), but they serve different purposes and have distinct characteristics.\n",
    "\n",
    "1. Abstraction:\n",
    "   - Abstraction focuses on representing complex real-world entities as simplified models by identifying and capturing only the essential characteristics and behavior of an object.\n",
    "   - It involves hiding unnecessary details and exposing only the relevant information to the outside world.\n",
    "   - Abstraction is achieved through the use of abstract classes and interfaces.\n",
    "   - It helps in creating a clear separation between the interface (what the object does) and the implementation (how the object does it).\n",
    "   - The main goal of abstraction is to provide a high-level view of an object and its functionality.\n",
    "\n",
    "Example:\n",
    "Consider a car as an object. In an abstract representation, we might define the essential features and behavior of a car, such as its ability to start, stop, accelerate, and turn. We would focus on the car's functionality without going into the implementation details, such as the internal combustion engine or the transmission system. By abstracting away these implementation details, we create a simplified model of a car that can be easily understood and used in our code.\n",
    "\n",
    "2. Encapsulation:\n",
    "   - Encapsulation focuses on bundling data and methods together into a single unit (an object) and controlling access to that unit.\n",
    "   - It provides data hiding by making the internal state of an object inaccessible to the outside world.\n",
    "   - Encapsulation is achieved through the use of classes, where the data members (attributes) are declared as private or protected, and the methods (functions) provide controlled access to those attributes.\n",
    "   - It helps in ensuring data integrity and provides a mechanism for maintaining the consistency of the object's state.\n",
    "\n",
    "Example:\n",
    "Consider a `BankAccount` class that encapsulates the concept of a bank account. It may have private attributes like `accountNumber`, `balance`, and `ownerName`. These attributes are not directly accessible from outside the class. Instead, the class provides public methods like `deposit()`, `withdraw()`, and `getBalance()` to interact with and manipulate the account's data. These methods serve as an interface to access and modify the encapsulated data, ensuring that the account's balance is properly updated and validated.\n",
    "\n",
    "In summary, abstraction focuses on simplifying and representing complex objects, while encapsulation focuses on bundling data and methods together, controlling access to the data, and maintaining data integrity. Both concepts are essential in OOP and work together to create well-organized, modular, and maintainable code."
   ]
  },
  {
   "cell_type": "markdown",
   "id": "1c387a45-dbe9-4098-bf3f-455f6ea036e8",
   "metadata": {},
   "source": [
    "Q3. What is abc module in python? Why is it used?"
   ]
  },
  {
   "cell_type": "markdown",
   "id": "43dcf21b-bf35-47bc-95ad-ce38a774b915",
   "metadata": {},
   "source": [
    "The abc module in Python stands for \"Abstract Base Classes.\" It provides mechanisms to define abstract base classes in Python. An abstract base class is a class that cannot be instantiated directly but serves as a blueprint for other classes. It defines a common interface and provides a way to enforce certain methods or properties that subclasses must implement."
   ]
  },
  {
   "cell_type": "markdown",
   "id": "ba522cf5-4a4d-451d-a459-552bfa5e815c",
   "metadata": {},
   "source": [
    "Defining Abstract Base Classes (ABCs):\n",
    "The abc module provides the ABC class, which is used as a base class for creating abstract base classes. By inheriting from ABC, a class becomes an abstract base class. Abstract methods can be defined within this class using the @abstractmethod decorator. Subclasses of the abstract base class are then required to implement these abstract methods."
   ]
  },
  {
   "cell_type": "markdown",
   "id": "069a0cb6-db52-4bb3-8831-a02737d25883",
   "metadata": {},
   "source": [
    "Enforcing Method Implementation:\n",
    "The abc module allows you to define abstract methods using the @abstractmethod decorator. Any subclass inheriting from an abstract base class must implement these abstract methods, providing concrete implementations. This enforces the presence and behavior of certain methods in the subclasses, ensuring consistency across different implementations."
   ]
  },
  {
   "cell_type": "markdown",
   "id": "03a9eda2-f8e0-4cb0-87f7-b444fadb9748",
   "metadata": {},
   "source": [
    "Type Checking and Polymorphism:\n",
    "Abstract base classes are also useful for type checking and polymorphism. By using abstract base classes, you can create functions or methods that accept instances of different classes, as long as they share a common abstract base class. This promotes code reusability and allows for more flexible and polymorphic code structures."
   ]
  },
  {
   "cell_type": "code",
   "execution_count": 2,
   "id": "c80cdd9a-2ff5-48e0-87f6-214dc7aaf260",
   "metadata": {},
   "outputs": [
    {
     "name": "stdout",
     "output_type": "stream",
     "text": [
      "Area: 15\n",
      "Perimeter: 16\n",
      "\n",
      "Area: 153.86\n",
      "Perimeter: 43.96\n",
      "\n"
     ]
    }
   ],
   "source": [
    "from abc import ABC, abstractmethod\n",
    "\n",
    "\n",
    "class Shape(ABC):\n",
    "    @abstractmethod\n",
    "    def area(self):\n",
    "        pass\n",
    "\n",
    "    @abstractmethod\n",
    "    def perimeter(self):\n",
    "        pass\n",
    "\n",
    "\n",
    "class Rectangle(Shape):\n",
    "    def __init__(self, length, width):\n",
    "        self.length = length\n",
    "        self.width = width\n",
    "\n",
    "    def area(self):\n",
    "        return self.length * self.width\n",
    "\n",
    "    def perimeter(self):\n",
    "        return 2 * (self.length + self.width)\n",
    "\n",
    "\n",
    "class Circle(Shape):\n",
    "    def __init__(self, radius):\n",
    "        self.radius = radius\n",
    "\n",
    "    def area(self):\n",
    "        return 3.14 * self.radius * self.radius\n",
    "\n",
    "    def perimeter(self):\n",
    "        return 2 * 3.14 * self.radius\n",
    "\n",
    "\n",
    "rectangle = Rectangle(5, 3)\n",
    "circle = Circle(7)\n",
    "\n",
    "\n",
    "shapes = [rectangle, circle]\n",
    "for shape in shapes:\n",
    "    print(f\"Area: {shape.area()}\")\n",
    "    print(f\"Perimeter: {shape.perimeter()}\")\n",
    "    print()\n"
   ]
  },
  {
   "cell_type": "markdown",
   "id": "28f240c2-9b4a-4a62-9ad7-766aaf4f2fab",
   "metadata": {},
   "source": [
    "Q4. How can we achieve data abstraction?"
   ]
  },
  {
   "cell_type": "markdown",
   "id": "647d041d-4e13-4972-882a-b871abfd58df",
   "metadata": {},
   "source": [
    "Data abstraction in programming refers to the process of representing essential features and hiding unnecessary details of data objects. It allows us to focus on the relevant aspects of data while concealing implementation complexities. In object-oriented programming, we can achieve data abstraction through the following techniques:\n",
    "\n",
    "Encapsulation:\n",
    "Encapsulation is the bundling of data and methods that operate on that data into a single unit, known as an object. It allows us to hide the internal representation and implementation details of the data. By providing controlled access to the data through methods or properties, encapsulation enforces abstraction by preventing direct manipulation of the underlying data.\n",
    "\n",
    "Access Modifiers:\n",
    "Access modifiers, such as public, private, and protected, allow us to control the visibility and accessibility of data members and methods in a class. By declaring certain data members as private, we restrict direct access to them from outside the class. Instead, we provide public methods or properties that serve as an interface to access and modify the data. This way, we can abstract away the implementation details and expose only the necessary functionality.\n",
    "\n",
    "Getter and Setter Methods:\n",
    "Getter and setter methods (or properties) provide a controlled way to access and modify the values of private data members. By defining these methods, we can enforce encapsulation and abstraction by encapsulating the logic for getting and setting the values. This allows us to add validation, perform calculations, or apply any necessary operations while accessing or modifying the data, without exposing the internal representation.\n",
    "\n",
    "Abstract Classes and Interfaces:\n",
    "Abstract classes and interfaces provide a way to define abstract data types that can be used as a blueprint for other classes. Abstract classes can have abstract methods that define a contract for subclasses to implement. By defining abstract methods, we enforce that subclasses provide their own implementation, ensuring the abstraction of data behavior. Interfaces, which contain only method signatures without implementations, provide a similar mechanism for defining abstractions and enforcing behavior contracts"
   ]
  },
  {
   "cell_type": "markdown",
   "id": "b9857ddb-8b06-4189-9b77-bf7f61174b18",
   "metadata": {},
   "source": [
    "Q5. Can we create an instance of an abstract class? Explain your answer."
   ]
  },
  {
   "cell_type": "markdown",
   "id": "bed19bef-ade4-4d96-b45e-cceb548d9313",
   "metadata": {},
   "source": [
    "No, we cannot create an instance of an abstract class directly in most programming languages, including Python. Abstract classes are designed to be incomplete and serve as blueprints for other classes to inherit from. They define the common interface and behavior that subclasses should implement."
   ]
  },
  {
   "cell_type": "markdown",
   "id": "cf48e1ce-06e6-49e9-a662-49d5175b369e",
   "metadata": {},
   "source": [
    "Attempting to create an instance of an abstract class in Python will result in a TypeError with a message indicating that the abstract class cannot be instantiated."
   ]
  },
  {
   "cell_type": "code",
   "execution_count": 3,
   "id": "b57c0de7-73b0-4e8a-8eef-fdd14750400d",
   "metadata": {},
   "outputs": [
    {
     "ename": "TypeError",
     "evalue": "Can't instantiate abstract class AbstractClass with abstract method abstract_method",
     "output_type": "error",
     "traceback": [
      "\u001b[0;31m---------------------------------------------------------------------------\u001b[0m",
      "\u001b[0;31mTypeError\u001b[0m                                 Traceback (most recent call last)",
      "Cell \u001b[0;32mIn[3], line 10\u001b[0m\n\u001b[1;32m      5\u001b[0m     \u001b[38;5;129m@abstractmethod\u001b[39m\n\u001b[1;32m      6\u001b[0m     \u001b[38;5;28;01mdef\u001b[39;00m \u001b[38;5;21mabstract_method\u001b[39m(\u001b[38;5;28mself\u001b[39m):\n\u001b[1;32m      7\u001b[0m         \u001b[38;5;28;01mpass\u001b[39;00m\n\u001b[0;32m---> 10\u001b[0m instance \u001b[38;5;241m=\u001b[39m \u001b[43mAbstractClass\u001b[49m\u001b[43m(\u001b[49m\u001b[43m)\u001b[49m  \n",
      "\u001b[0;31mTypeError\u001b[0m: Can't instantiate abstract class AbstractClass with abstract method abstract_method"
     ]
    }
   ],
   "source": [
    "from abc import ABC, abstractmethod\n",
    "\n",
    "\n",
    "class AbstractClass(ABC):\n",
    "    @abstractmethod\n",
    "    def abstract_method(self):\n",
    "        pass\n",
    "\n",
    "\n",
    "instance = AbstractClass()  \n"
   ]
  },
  {
   "cell_type": "code",
   "execution_count": null,
   "id": "678c347f-7de7-4492-869d-6fef03434174",
   "metadata": {},
   "outputs": [],
   "source": []
  }
 ],
 "metadata": {
  "kernelspec": {
   "display_name": "Python 3 (ipykernel)",
   "language": "python",
   "name": "python3"
  },
  "language_info": {
   "codemirror_mode": {
    "name": "ipython",
    "version": 3
   },
   "file_extension": ".py",
   "mimetype": "text/x-python",
   "name": "python",
   "nbconvert_exporter": "python",
   "pygments_lexer": "ipython3",
   "version": "3.10.8"
  }
 },
 "nbformat": 4,
 "nbformat_minor": 5
}

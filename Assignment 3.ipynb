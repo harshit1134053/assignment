{
 "cells": [
  {
   "cell_type": "markdown",
   "id": "a7282795-81b9-43a2-83f1-eb63d9cce464",
   "metadata": {},
   "source": [
    "Q1. Which keyword is used to create a function? Create a function to return a list of odd numbers in the\n",
    "range of 1 to 25."
   ]
  },
  {
   "cell_type": "markdown",
   "id": "a7234a60-e11e-4c4b-bec8-9c65588c5152",
   "metadata": {},
   "source": [
    "def keyword is used to initialise any function . "
   ]
  },
  {
   "cell_type": "code",
   "execution_count": 1,
   "id": "752ad587-a47c-4b16-8a55-5dc360e068f8",
   "metadata": {},
   "outputs": [
    {
     "name": "stdout",
     "output_type": "stream",
     "text": [
      "[1, 3, 5, 7, 9, 11, 13, 15, 17, 19, 21, 23, 25]\n"
     ]
    }
   ],
   "source": [
    "def get_odd_numbers():\n",
    "    odd_numbers = []\n",
    "    for num in range(1, 26):\n",
    "        if num % 2 != 0:\n",
    "            odd_numbers.append(num)\n",
    "    return odd_numbers\n",
    "\n",
    "result = get_odd_numbers()\n",
    "print(result)\n"
   ]
  },
  {
   "cell_type": "markdown",
   "id": "f438d5fa-f79f-4b4d-a178-2500f361a729",
   "metadata": {},
   "source": [
    "Q2. Why *args and **kwargs is used in some functions? Create a function each for *args and **kwargs\n",
    "to demonstrate their use."
   ]
  },
  {
   "cell_type": "markdown",
   "id": "59b67177-d660-4ffe-8579-18a6dbf65dfc",
   "metadata": {},
   "source": [
    "The *args parameter allows you to pass a variable number of non-keyworded arguments to a function."
   ]
  },
  {
   "cell_type": "code",
   "execution_count": 2,
   "id": "805eb037-b4cb-43a5-8659-3fa1fd7e955b",
   "metadata": {},
   "outputs": [
    {
     "name": "stdout",
     "output_type": "stream",
     "text": [
      "15\n"
     ]
    }
   ],
   "source": [
    "def sum_numbers(*args):\n",
    "    total = 0\n",
    "    for num in args:\n",
    "        total += num\n",
    "    return total\n",
    "\n",
    "result = sum_numbers(1, 2, 3, 4, 5)\n",
    "print(result)  \n"
   ]
  },
  {
   "cell_type": "markdown",
   "id": "4650b761-b2b0-4ee5-a5c4-b1748fb75505",
   "metadata": {},
   "source": [
    "**kwargs allows you to pass a variable number of keyword arguments to a function. It collects all the keyword arguments into a dictionary within the\n",
    "function"
   ]
  },
  {
   "cell_type": "code",
   "execution_count": 3,
   "id": "fc0c2fc7-4144-4ed6-904b-ebdf38e89c1d",
   "metadata": {},
   "outputs": [
    {
     "name": "stdout",
     "output_type": "stream",
     "text": [
      "name: John\n",
      "age: 25\n",
      "city: New York\n"
     ]
    }
   ],
   "source": [
    "def print_info(**kwargs):\n",
    "    for key, value in kwargs.items():\n",
    "        print(f\"{key}: {value}\")\n",
    "\n",
    "print_info(name=\"John\", age=25, city=\"New York\")\n"
   ]
  },
  {
   "cell_type": "markdown",
   "id": "aed1e7dd-7c48-4208-a428-7f0148ad17a9",
   "metadata": {},
   "source": [
    "Q3. What is an iterator in python? Name the method used to initialise the iterator object and the method\n",
    "used for iteration. Use these methods to print the first five elements of the given list [2, 4, 6, 8, 10, 12, 14,\n",
    "16, 18, 20]."
   ]
  },
  {
   "cell_type": "markdown",
   "id": "95e6387b-1bea-433e-a077-e1986ea99481",
   "metadata": {},
   "source": [
    " An iterator allows you to traverse (or iterate over) a collection of elements one by one."
   ]
  },
  {
   "cell_type": "markdown",
   "id": "98af4e44-043c-45b3-b34f-83e42e1be8dd",
   "metadata": {},
   "source": [
    "The __iter__() method is used to initialize an iterator object.The __next__() method is used for iteration. It returns the next element from \n",
    "the iterator. "
   ]
  },
  {
   "cell_type": "code",
   "execution_count": 4,
   "id": "7c09509e-9786-40b2-a89f-38154f570c49",
   "metadata": {},
   "outputs": [
    {
     "name": "stdout",
     "output_type": "stream",
     "text": [
      "2\n",
      "4\n",
      "6\n",
      "8\n",
      "10\n"
     ]
    }
   ],
   "source": [
    "my_list = [2, 4, 6, 8, 10, 12, 14, 16, 18, 20]\n",
    "\n",
    "my_iterator = iter(my_list)\n",
    "for _ in range(5):\n",
    "    element = next(my_iterator)\n",
    "    print(element)\n"
   ]
  },
  {
   "cell_type": "markdown",
   "id": "a7d036bc-bedb-4d49-a7d8-dae9beb86b59",
   "metadata": {},
   "source": [
    "Q4. What is a generator function in python? Why yield keyword is used? Give an example of a generator\n",
    "function."
   ]
  },
  {
   "cell_type": "markdown",
   "id": "b3da664c-aff1-4d63-9fed-95911278bd6c",
   "metadata": {},
   "source": [
    "a generator function is a special type of function that returns an iterator object. The yield keyword is used in generator functions to specify \n",
    "the value to be yielded. When the generator function is called, it returns an iterator object that can be iterated over. Each time the generator's\n",
    "yield statement is encountered during iteration, the value specified by yield is returned, and the function's state is suspended."
   ]
  },
  {
   "cell_type": "code",
   "execution_count": 5,
   "id": "491bfb75-5d3a-41d5-80f9-5f01c01f011c",
   "metadata": {},
   "outputs": [
    {
     "name": "stdout",
     "output_type": "stream",
     "text": [
      "0\n",
      "2\n",
      "4\n",
      "6\n",
      "8\n",
      "10\n"
     ]
    }
   ],
   "source": [
    "def generate_even_numbers(limit):\n",
    "    num = 0\n",
    "    while num <= limit:\n",
    "        yield num\n",
    "        num += 2\n",
    "even_generator = generate_even_numbers(10)\n",
    "\n",
    "for num in even_generator:\n",
    "    print(num)\n"
   ]
  },
  {
   "cell_type": "markdown",
   "id": "e4c2294e-e288-4816-9547-278e959bca40",
   "metadata": {},
   "source": [
    "Q5. Create a generator function for prime numbers less than 1000. Use the next() method to print the\n",
    "first 20 prime numbers."
   ]
  },
  {
   "cell_type": "code",
   "execution_count": 6,
   "id": "38335451-4639-47b8-8df6-52bd37beafb0",
   "metadata": {},
   "outputs": [
    {
     "name": "stdout",
     "output_type": "stream",
     "text": [
      "2\n",
      "3\n",
      "5\n",
      "7\n",
      "11\n",
      "13\n",
      "17\n",
      "19\n",
      "23\n",
      "29\n",
      "31\n",
      "37\n",
      "41\n",
      "43\n",
      "47\n",
      "53\n",
      "59\n",
      "61\n",
      "67\n",
      "71\n"
     ]
    }
   ],
   "source": [
    "def generate_primes():\n",
    "    num = 2\n",
    "    while True:\n",
    "        if all(num % i != 0 for i in range(2, int(num**0.5) + 1)):\n",
    "            yield num\n",
    "        num += 1\n",
    "\n",
    "prime_generator = generate_primes()\n",
    "\n",
    "for _ in range(20):\n",
    "    prime_number = next(prime_generator)\n",
    "    print(prime_number)\n"
   ]
  },
  {
   "cell_type": "markdown",
   "id": "935f5d60-87c7-4d6e-af75-37cc67ee5c26",
   "metadata": {},
   "source": [
    "Q6. Write a python program to print the first 10 Fibonacci numbers using a while loop."
   ]
  },
  {
   "cell_type": "code",
   "execution_count": 7,
   "id": "94bb0cf7-c39f-45be-bd25-172bed9ac271",
   "metadata": {},
   "outputs": [
    {
     "name": "stdout",
     "output_type": "stream",
     "text": [
      "0 1 1 2 3 5 8 13 21 34 "
     ]
    }
   ],
   "source": [
    "def print_fibonacci():\n",
    "    num1, num2 = 0, 1\n",
    "    count = 0\n",
    "\n",
    "    while count < 10:\n",
    "        print(num1, end=\" \")\n",
    "        num_next = num1 + num2\n",
    "        num1 = num2\n",
    "        num2 = num_next\n",
    "        count += 1\n",
    "\n",
    "print_fibonacci()\n"
   ]
  },
  {
   "cell_type": "markdown",
   "id": "e933229a-2947-41c2-bfb5-bc4c888c2ac0",
   "metadata": {},
   "source": [
    "Q7. Write a List Comprehension to iterate through the given string: ‘pwskills’.\n",
    "Expected output: ['p', 'w', 's', 'k', 'i', 'l', 'l', 's']"
   ]
  },
  {
   "cell_type": "code",
   "execution_count": 8,
   "id": "5ece1f74-a952-417d-9aed-3c2e7e5b303d",
   "metadata": {},
   "outputs": [
    {
     "name": "stdout",
     "output_type": "stream",
     "text": [
      "['p', 'w', 's', 'k', 'i', 'l', 'l', 's']\n"
     ]
    }
   ],
   "source": [
    "string = 'pwskills'\n",
    "result = [char for char in string if char in 'pwskills']\n",
    "print(result)\n"
   ]
  },
  {
   "cell_type": "markdown",
   "id": "28ebdf4a-81a6-4d69-8f69-3f674793188a",
   "metadata": {},
   "source": [
    "Q8. Write a python program to check whether a given number is Palindrome or not using a while loop."
   ]
  },
  {
   "cell_type": "code",
   "execution_count": 9,
   "id": "b3c9ba7d-534a-452a-8a00-28b18d895068",
   "metadata": {},
   "outputs": [
    {
     "name": "stdin",
     "output_type": "stream",
     "text": [
      "Enter a number:  23455\n"
     ]
    },
    {
     "name": "stdout",
     "output_type": "stream",
     "text": [
      "23455 is not a palindrome.\n"
     ]
    }
   ],
   "source": [
    "def is_palindrome(num):\n",
    "    original_num = num\n",
    "    reverse_num = 0\n",
    "\n",
    "    while num > 0:\n",
    "        remainder = num % 10\n",
    "        reverse_num = reverse_num * 10 + remainder\n",
    "        num = num // 10\n",
    "\n",
    "    if original_num == reverse_num:\n",
    "        return True\n",
    "    else:\n",
    "        return False\n",
    "    \n",
    "number = int(input(\"Enter a number: \"))\n",
    "if is_palindrome(number):\n",
    "    print(f\"{number} is a palindrome.\")\n",
    "else:\n",
    "    print(f\"{number} is not a palindrome.\")\n"
   ]
  },
  {
   "cell_type": "markdown",
   "id": "80704c59-7db0-4590-994f-d2e0a8e64ecc",
   "metadata": {},
   "source": [
    "Q9. Write a code to print odd numbers from 1 to 100 using list comprehension."
   ]
  },
  {
   "cell_type": "code",
   "execution_count": null,
   "id": "5f2b1ff3-be17-4d52-816a-b3a1ae9f1851",
   "metadata": {},
   "outputs": [],
   "source": []
  }
 ],
 "metadata": {
  "kernelspec": {
   "display_name": "Python 3 (ipykernel)",
   "language": "python",
   "name": "python3"
  },
  "language_info": {
   "codemirror_mode": {
    "name": "ipython",
    "version": 3
   },
   "file_extension": ".py",
   "mimetype": "text/x-python",
   "name": "python",
   "nbconvert_exporter": "python",
   "pygments_lexer": "ipython3",
   "version": "3.10.8"
  }
 },
 "nbformat": 4,
 "nbformat_minor": 5
}

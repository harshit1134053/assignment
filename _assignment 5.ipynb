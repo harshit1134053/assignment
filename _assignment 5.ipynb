{
 "cells": [
  {
   "cell_type": "markdown",
   "id": "532ea1d1-f88c-4d26-acb9-f122aceffe73",
   "metadata": {},
   "source": [
    "Q1, Create a vehicle class with an init method having instance variables as name_of_vehicle, max_speed\n",
    "and average_of_vehicle."
   ]
  },
  {
   "cell_type": "code",
   "execution_count": 1,
   "id": "3356f9a1-6f2d-4262-87b0-2052f3dbd33c",
   "metadata": {},
   "outputs": [],
   "source": [
    "class vehicle:\n",
    "    def __init__(self,name_of_vehicle,max_speed,average_of_vehicle):\n",
    "        self.name_of_vehicle=name_of_vehicle\n",
    "        self.max_speed=max_speed\n",
    "        self.average_of_vehicle=average_of_vehicle"
   ]
  },
  {
   "cell_type": "markdown",
   "id": "e73b9404-1d4b-4395-be22-f7a8b0094c53",
   "metadata": {},
   "source": [
    "Q2. Create a child class car from the vehicle class created in Que 1, which will inherit the vehicle class.\n",
    "Create a method named seating_capacity which takes capacity as an argument and returns the name of\n",
    "the vehicle and its seating capacity."
   ]
  },
  {
   "cell_type": "code",
   "execution_count": 6,
   "id": "537ce51b-ee69-4598-a987-feafb03be1a4",
   "metadata": {},
   "outputs": [],
   "source": [
    "class car(vehicle):\n",
    "    \n",
    "    def seating_capacity(self,capacity):\n",
    "        \n",
    "        return f\"The {self.name_of_vehicle} has a seating capacity of {capacity}.\""
   ]
  },
  {
   "cell_type": "markdown",
   "id": "dac59532-94a3-43c7-afd4-2efbada557de",
   "metadata": {},
   "source": [
    "Q3. What is multiple inheritance? Write a python code to demonstrate multiple inheritance."
   ]
  },
  {
   "cell_type": "markdown",
   "id": "2e49da35-c33d-48be-ba0d-3e8654b6b86a",
   "metadata": {},
   "source": [
    "Multiple inheritance is a feature in object-oriented programming where a class can inherit attributes and methods from multiple parent classes. \n",
    "This allows a child class to inherit and combine the features of multiple classes."
   ]
  },
  {
   "cell_type": "code",
   "execution_count": 8,
   "id": "746c0931-cca4-44ab-a252-dd57585a81fa",
   "metadata": {},
   "outputs": [],
   "source": [
    "class Animal:\n",
    "    def __init__(self, name):\n",
    "        self.name = name\n",
    "\n",
    "    def speak(self):\n",
    "        raise NotImplementedError(\"Subclass must implement the 'speak' method\")\n",
    "\n",
    "\n",
    "class Mammal(Animal):\n",
    "    def __init__(self, name):\n",
    "        super().__init__(name)\n",
    "\n",
    "    def speak(self):\n",
    "        return \"Mammal: Roar!\"\n",
    "\n",
    "\n",
    "class Flyable:\n",
    "    def fly(self):\n",
    "        return \"I can fly!\"\n",
    "\n",
    "\n",
    "class Bat(Mammal, Flyable):\n",
    "    def __init__(self, name):\n",
    "        super().__init__(name)\n",
    "\n",
    "    def speak(self):\n",
    "        return \"Bat: Squeak!\"\n",
    "\n",
    "\n"
   ]
  },
  {
   "cell_type": "markdown",
   "id": "9f4ed96e-7272-4ec4-bba5-a863e3954a43",
   "metadata": {},
   "source": [
    "Q4. What are getter and setter in python? Create a class and create a getter and a setter method in this\n",
    "class."
   ]
  },
  {
   "cell_type": "markdown",
   "id": "055b006d-654f-4c1f-9a9b-4c185aebc11e",
   "metadata": {},
   "source": [
    "In Python, getter and setter methods are used to provide controlled access to class attributes. They allow you to retrieve (get) and modify (set) \n",
    "the values of class attributes, respectively. The getter method retrieves the value of an attribute, while the setter method sets or modifies the\n",
    "value of an attribute."
   ]
  },
  {
   "cell_type": "code",
   "execution_count": 9,
   "id": "1df1c9a6-9ab4-4e3f-bff0-547e8d316b8f",
   "metadata": {},
   "outputs": [],
   "source": [
    "class Person:\n",
    "    def __init__(self, name):\n",
    "        self._name = name\n",
    "\n",
    "    # Getter method\n",
    "    def get_name(self):\n",
    "        return self._name\n",
    "\n",
    "    # Setter method\n",
    "    def set_name(self, new_name):\n",
    "        self._name = new_name\n"
   ]
  },
  {
   "cell_type": "markdown",
   "id": "c3d13344-1880-4558-9669-12eb208ae876",
   "metadata": {},
   "source": [
    "Q5.What is method overriding in python? Write a python code to demonstrate method overriding."
   ]
  },
  {
   "cell_type": "markdown",
   "id": "5470b0b4-2e09-4e98-a5de-495be30fbf71",
   "metadata": {},
   "source": [
    "Method overriding in Python occurs when a child class defines a method with the same name as a method in its parent class. \n",
    "The child class's method overrides the implementation of the parent class's method, allowing the child class to provide its own implementation."
   ]
  },
  {
   "cell_type": "markdown",
   "id": "ca3938bd-1c12-4ca7-bca0-4a66aa7a75dd",
   "metadata": {},
   "source": [
    "Method overriding allows child classes to customize the behavior of inherited methods. It is a fundamental concept\n",
    "in object-oriented programming, enabling polymorphism and dynamic dispatch based on the type of the object being used."
   ]
  },
  {
   "cell_type": "code",
   "execution_count": 11,
   "id": "94a87d55-956a-49dc-b913-9c3865043198",
   "metadata": {},
   "outputs": [
    {
     "name": "stdout",
     "output_type": "stream",
     "text": [
      "Vehicle is starting...\n",
      "Car is starting...\n"
     ]
    }
   ],
   "source": [
    "class Vehicle:\n",
    "    def start(self):\n",
    "        print(\"Vehicle is starting...\")\n",
    "\n",
    "\n",
    "class Car(Vehicle):\n",
    "    def start(self):\n",
    "        print(\"Car is starting...\")\n",
    "\n",
    "\n",
    "vehicle = Vehicle()\n",
    "vehicle.start()  \n",
    "\n",
    "car = Car()\n",
    "car.start()      \n"
   ]
  },
  {
   "cell_type": "code",
   "execution_count": null,
   "id": "a004a339-ff4a-4b57-bf2d-62bcb57d394e",
   "metadata": {},
   "outputs": [],
   "source": []
  }
 ],
 "metadata": {
  "kernelspec": {
   "display_name": "Python 3 (ipykernel)",
   "language": "python",
   "name": "python3"
  },
  "language_info": {
   "codemirror_mode": {
    "name": "ipython",
    "version": 3
   },
   "file_extension": ".py",
   "mimetype": "text/x-python",
   "name": "python",
   "nbconvert_exporter": "python",
   "pygments_lexer": "ipython3",
   "version": "3.10.8"
  }
 },
 "nbformat": 4,
 "nbformat_minor": 5
}

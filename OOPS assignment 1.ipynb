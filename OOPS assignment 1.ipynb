{
 "cells": [
  {
   "cell_type": "markdown",
   "id": "d47dda41-12c2-4850-894a-6631aeb072c0",
   "metadata": {},
   "source": [
    "Q1. Explain Class and Object with respect to Object-Oriented Programming. Give a suitable example."
   ]
  },
  {
   "cell_type": "markdown",
   "id": "2508fedf-7cd1-4e6b-b4f0-1cda4f09049d",
   "metadata": {},
   "source": [
    "In object-oriented programming (OOP), a class is a blueprint or a template that defines the characteristics (properties) and behaviors (methods) of a particular type of object. It provides a way to define a new data type that encapsulates data and the operations that can be performed on that data.\n",
    "An Object  is an instance of a class. It is a concrete representation of the class, created using the class blueprint. Each object has its own unique identity, state, and behavior. It can access the properties and methods defined in its class."
   ]
  },
  {
   "cell_type": "markdown",
   "id": "38c8a740-a439-41d1-80b5-a16273b075aa",
   "metadata": {},
   "source": [
    " an example of a class called \"Car.\" The Car class can have properties like \"color,\" \"brand,\" and \"fuel type,\" as well as methods like \"start,\" \"accelerate,\" and \"stop.\" "
   ]
  },
  {
   "cell_type": "code",
   "execution_count": 1,
   "id": "b5331d94-16ca-4b49-bb76-c793204a915a",
   "metadata": {},
   "outputs": [],
   "source": [
    "class Car:\n",
    "    def __init__(self, color, brand, fuel_type):\n",
    "        self.color = color\n",
    "        self.brand = brand\n",
    "        self.fuel_type = fuel_type\n",
    "\n",
    "    def start(self):\n",
    "        print(\"The car has started.\")\n",
    "\n",
    "    def accelerate(self):\n",
    "        print(\"The car is accelerating.\")\n",
    "\n",
    "    def stop(self):\n",
    "        print(\"The car has stopped.\")\n"
   ]
  },
  {
   "cell_type": "code",
   "execution_count": 2,
   "id": "ca125ac5-5bcc-49e8-89d1-1aabf2d243ec",
   "metadata": {},
   "outputs": [],
   "source": [
    "my_car = Car(\"red\", \"Toyota\", \"gasoline\")\n"
   ]
  },
  {
   "cell_type": "code",
   "execution_count": 3,
   "id": "39007b69-15a3-4ab0-b4f0-c6a79c67f3d4",
   "metadata": {},
   "outputs": [
    {
     "name": "stdout",
     "output_type": "stream",
     "text": [
      "red\n",
      "Toyota\n",
      "The car has started.\n",
      "The car is accelerating.\n",
      "The car has stopped.\n"
     ]
    }
   ],
   "source": [
    "print(my_car.color)  \n",
    "print(my_car.brand)  \n",
    "my_car.start()       \n",
    "my_car.accelerate()  \n",
    "my_car.stop()        \n"
   ]
  },
  {
   "cell_type": "markdown",
   "id": "aea91173-0fa3-4c98-987e-8cd31d44a75b",
   "metadata": {},
   "source": [
    "Q2. Name the four pillars of OOPs."
   ]
  },
  {
   "cell_type": "markdown",
   "id": "ca4734fe-0586-408c-afd6-c7028a9b718d",
   "metadata": {},
   "source": [
    "\n",
    "The four pillars of object-oriented programming (OOP) are:\n",
    "\n",
    "Encapsulation: Encapsulation is the mechanism of bundling data and the methods that operate on that data within a single unit called a class. It allows the data to be hidden and accessed only through the defined methods of the class, ensuring data integrity and providing abstraction."
   ]
  },
  {
   "cell_type": "markdown",
   "id": "51113d3d-8f09-43cc-bede-ab96cbcb55c8",
   "metadata": {},
   "source": [
    "Inheritance: Inheritance allows classes to inherit the properties and methods of other classes, forming a hierarchical relationship. A class that inherits from another class is called a subclass or derived class, while the class being inherited from is called a superclass or base class. Inheritance promotes code reusability and enables the creation of specialized classes based on existing ones."
   ]
  },
  {
   "cell_type": "markdown",
   "id": "409576b7-4f38-4b63-8cd9-21cb81f7f771",
   "metadata": {},
   "source": [
    "Polymorphism: Polymorphism refers to the ability of objects of different classes to respond to the same message or method call in different ways. It allows objects to be treated as instances of their own class or any of their superclass types. Polymorphism is achieved through method overriding and method overloading."
   ]
  },
  {
   "cell_type": "markdown",
   "id": "6491fb6d-d78c-4989-bc00-7a7a35010d0e",
   "metadata": {},
   "source": [
    "Abstraction: Abstraction involves simplifying complex systems by focusing on the essential features and ignoring the irrelevant details. It allows the creation of abstract classes or interfaces that define the common structure and behavior without providing the full implementation."
   ]
  },
  {
   "cell_type": "markdown",
   "id": "fee84cba-afe5-428e-80cb-71ba40fa0699",
   "metadata": {},
   "source": [
    "Q3. Explain why the __init__() function is used. Give a suitable example."
   ]
  },
  {
   "cell_type": "markdown",
   "id": "74104e94-cf4f-4fb6-be48-3a33f06f48a9",
   "metadata": {},
   "source": [
    "The __init__() function, also known as the constructor, is used in object-oriented programming to initialize the attributes (properties) of an object when it is created. It is a special method that gets automatically called when an object is instantiated from a class. The primary purpose of __init__() is to set up the initial state of the object by assigning values to its attributes."
   ]
  },
  {
   "cell_type": "code",
   "execution_count": 5,
   "id": "f60a916b-7717-47c5-a938-8b22b5c18ffb",
   "metadata": {},
   "outputs": [
    {
     "name": "stdout",
     "output_type": "stream",
     "text": [
      "John\n",
      "25\n",
      "Name: John, Age: 25\n"
     ]
    }
   ],
   "source": [
    "class Person:\n",
    "    def __init__(self, name, age):\n",
    "        self.name = name\n",
    "        self.age = age\n",
    "\n",
    "    def display_info(self):\n",
    "        print(f\"Name: {self.name}, Age: {self.age}\")\n",
    "\n",
    "\n",
    "\n",
    "person1 = Person(\"John\", 25)\n",
    "\n",
    "\n",
    "print(person1.name)  \n",
    "print(person1.age)   \n",
    "\n",
    "\n",
    "person1.display_info()  \n"
   ]
  },
  {
   "cell_type": "markdown",
   "id": "6b698a74-dfe3-4a07-a109-c60bab6086b9",
   "metadata": {},
   "source": [
    "Q4. Why self is used in OOPs?"
   ]
  },
  {
   "cell_type": "markdown",
   "id": "fe6c0d8a-dd43-4794-b4b5-d7f4ff26df31",
   "metadata": {},
   "source": [
    "In object-oriented programming (OOP), self is a conventionally used parameter name that refers to the instance of a class. It acts as a reference to the current object or instance on which a method is being called. The use of self allows you to access the attributes and methods of the object within the class"
   ]
  },
  {
   "cell_type": "markdown",
   "id": "0810337c-e335-453c-8c93-cffcf4ba42f7",
   "metadata": {},
   "source": [
    "Object-specific access: Each object created from a class has its own set of attributes and methods. By using self as the first parameter in a method definition, you can access and manipulate the object's attributes and call its methods. "
   ]
  },
  {
   "cell_type": "markdown",
   "id": "df09d8f7-202c-4edc-9b32-ac7e926cfd5e",
   "metadata": {},
   "source": [
    "Method binding: In Python, methods are bound to their objects dynamically. When you call a method on an object, Python automatically passes the object itself as the first argument. "
   ]
  },
  {
   "cell_type": "markdown",
   "id": "0a8ad669-9fbe-4f96-9b40-5ab402161d66",
   "metadata": {},
   "source": [
    "Clarity and readability: Using self as the parameter name has become a common practice in the Python community. It makes the code more readable and self-explanatory, indicating that the method is intended to be called on an instance of the class."
   ]
  },
  {
   "cell_type": "code",
   "execution_count": 6,
   "id": "57478d89-98c4-4777-90bb-cce78ee259d1",
   "metadata": {},
   "outputs": [
    {
     "name": "stdout",
     "output_type": "stream",
     "text": [
      "Radius: 5\n",
      "78.5\n"
     ]
    }
   ],
   "source": [
    "class Circle:\n",
    "    def __init__(self, radius):\n",
    "        self.radius = radius\n",
    "\n",
    "    def calculate_area(self):\n",
    "        return 3.14 * self.radius ** 2\n",
    "\n",
    "    def print_radius(self):\n",
    "        print(\"Radius:\", self.radius)\n",
    "\n",
    "\n",
    "\n",
    "circle = Circle(5)\n",
    "\n",
    "\n",
    "circle.print_radius()       \n",
    "print(circle.calculate_area())  \n"
   ]
  },
  {
   "cell_type": "markdown",
   "id": "baf89089-1fb7-4f48-b7fe-cfe02e32ecbd",
   "metadata": {},
   "source": [
    "Q5. What is inheritance? Give an example for each type of inheritance."
   ]
  },
  {
   "cell_type": "markdown",
   "id": "9d5c8600-be52-41c7-b0b6-3600aafbeac1",
   "metadata": {},
   "source": [
    "Inheritance is a fundamental concept in object-oriented programming (OOP) that allows one class to acquire the properties and behaviors of another class. The class that is being inherited from is called the superclass or base class, and the class that inherits from the superclass is called the subclass or derived class. Inheritance enables code reuse, promotes modularity, and establishes hierarchical relationships between classes."
   ]
  },
  {
   "cell_type": "markdown",
   "id": "8dd53464-be2b-463b-822d-686193045b67",
   "metadata": {},
   "source": [
    "Single Inheritance: Single inheritance refers to a situation where a subclass inherits from a single superclass. It represents a one-to-one hierarchical relationship."
   ]
  },
  {
   "cell_type": "code",
   "execution_count": 7,
   "id": "a652ddda-b127-4006-88e1-92a9fd455852",
   "metadata": {},
   "outputs": [
    {
     "name": "stdout",
     "output_type": "stream",
     "text": [
      "The animal is eating.\n",
      "The dog is barking.\n"
     ]
    }
   ],
   "source": [
    "class Animal:\n",
    "    def eat(self):\n",
    "        print(\"The animal is eating.\")\n",
    "\n",
    "class Dog(Animal):\n",
    "    def bark(self):\n",
    "        print(\"The dog is barking.\")\n",
    "\n",
    "\n",
    "\n",
    "dog = Dog()\n",
    "\n",
    "\n",
    "dog.eat()  \n",
    "\n",
    "\n",
    "dog.bark()  \n"
   ]
  },
  {
   "cell_type": "markdown",
   "id": "2df7a599-6bbe-43ff-8522-b71ac3c1822c",
   "metadata": {},
   "source": [
    "Multiple Inheritance: Multiple inheritance occurs when a subclass inherits from multiple superclasses. It allows a class to inherit attributes and methods from multiple independent classes."
   ]
  },
  {
   "cell_type": "code",
   "execution_count": 8,
   "id": "1b9138a3-d501-46ac-9372-8f86d90a6def",
   "metadata": {},
   "outputs": [
    {
     "name": "stdout",
     "output_type": "stream",
     "text": [
      "The flyer is flying.\n",
      "The swimmer is swimming.\n",
      "The duck is quacking.\n"
     ]
    }
   ],
   "source": [
    "class Flyer:\n",
    "    def fly(self):\n",
    "        print(\"The flyer is flying.\")\n",
    "\n",
    "class Swimmer:\n",
    "    def swim(self):\n",
    "        print(\"The swimmer is swimming.\")\n",
    "\n",
    "class Duck(Flyer, Swimmer):\n",
    "    def quack(self):\n",
    "        print(\"The duck is quacking.\")\n",
    "\n",
    "\n",
    "\n",
    "duck = Duck()\n",
    "\n",
    "\n",
    "duck.fly()   \n",
    "duck.swim()  \n",
    "\n",
    "\n",
    "duck.quack() \n"
   ]
  },
  {
   "cell_type": "markdown",
   "id": "0cbdc606-af81-4826-ba11-422db981226c",
   "metadata": {},
   "source": [
    "Multilevel Inheritance: Multilevel inheritance occurs when a subclass inherits from another subclass, forming a hierarchy of inheritance. In this type of inheritance, the properties and methods of the superclass flow through multiple levels of subclasses."
   ]
  },
  {
   "cell_type": "code",
   "execution_count": 9,
   "id": "38d449e6-2a1a-4ffc-a396-6a58fa54ed53",
   "metadata": {},
   "outputs": [
    {
     "name": "stdout",
     "output_type": "stream",
     "text": [
      "The vehicle is moving.\n",
      "The car has started.\n"
     ]
    }
   ],
   "source": [
    "class Vehicle:\n",
    "    def move(self):\n",
    "        print(\"The vehicle is moving.\")\n",
    "\n",
    "class Car(Vehicle):\n",
    "    def start(self):\n",
    "        print(\"The car has started.\")\n",
    "\n",
    "class SportsCar(Car):\n",
    "    def accelerate(self):\n",
    "        print(\"The sports car is accelerating.\")\n",
    "\n",
    "\n",
    "sports_car = SportsCar()\n",
    "\n",
    "sports_car.move()       \n",
    "sports_car.start()      \n"
   ]
  },
  {
   "cell_type": "code",
   "execution_count": null,
   "id": "24794562-28d8-4960-9fb4-ebfc9133ce6a",
   "metadata": {},
   "outputs": [],
   "source": []
  }
 ],
 "metadata": {
  "kernelspec": {
   "display_name": "Python 3 (ipykernel)",
   "language": "python",
   "name": "python3"
  },
  "language_info": {
   "codemirror_mode": {
    "name": "ipython",
    "version": 3
   },
   "file_extension": ".py",
   "mimetype": "text/x-python",
   "name": "python",
   "nbconvert_exporter": "python",
   "pygments_lexer": "ipython3",
   "version": "3.10.8"
  }
 },
 "nbformat": 4,
 "nbformat_minor": 5
}

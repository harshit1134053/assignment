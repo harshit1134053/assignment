{
 "cells": [
  {
   "cell_type": "markdown",
   "id": "1953918c-4d35-410d-bb5e-87604a799e45",
   "metadata": {},
   "source": [
    "Q1. Write all the conventions being followed while declaring a variable."
   ]
  },
  {
   "cell_type": "markdown",
   "id": "eff9ff60-c8fa-477b-b6ef-a4ca66bca811",
   "metadata": {},
   "source": [
    "Variable names should start with a letter or an underscore, followed by letters, underscores, or numbers.\n",
    "Variable names should not start with a number.\n",
    "Variable names should not contain spaces or special characters (except for underscores).\n",
    "Variable names should be descriptive and meaningful.\n",
    "Variable names are case-sensitive, which means variable_name and Variable_Name are two different variables.\n",
    "It is best practice to use lowercase letters for variable names, except for global constants which should be in uppercase letters.\n",
    "Variable names should not be too long, as this can make the code difficult to read."
   ]
  },
  {
   "cell_type": "markdown",
   "id": "6595eb97-1047-439c-b328-36f221c2ee95",
   "metadata": {},
   "source": [
    "Q2. What will happen if we declare a restricted keyword as a variable?"
   ]
  },
  {
   "cell_type": "markdown",
   "id": "0676f1e8-3d41-4cdc-b0da-d59ecf15cc3d",
   "metadata": {},
   "source": [
    "In Python, if we try to declare a variable with a reserved keyword, we will get a SyntaxError and the program will fail to execute. This is because reserved keywords in Python have predefined meanings and are used to define the language's syntax and structure. Therefore, they cannot be used as variable names."
   ]
  },
  {
   "cell_type": "markdown",
   "id": "9a0693f9-79e3-49d5-ab1e-487bcd51b044",
   "metadata": {},
   "source": [
    "Q3. Can we actually declare a string as a variable name?"
   ]
  },
  {
   "cell_type": "markdown",
   "id": "102dd4d0-af51-4942-99d3-d3f3f5f818f1",
   "metadata": {},
   "source": [
    "Yes, we can declare a string as a variable name in Python"
   ]
  },
  {
   "cell_type": "markdown",
   "id": "a27cbbc0-6e00-49a0-8951-eb510191bd3a",
   "metadata": {},
   "source": [
    "Q4. Is it possible for us to declare “_” as a variable? If so, then write an example of it."
   ]
  },
  {
   "cell_type": "markdown",
   "id": "8cde8b00-db2d-4f79-a63a-6b26f9b22b40",
   "metadata": {},
   "source": [
    "Yes, it is possible to declare a variable with a single underscore (_) in Python. The underscore character can be used as a valid variable name, although it is typically used in certain special cases.\n",
    "\n",
    "For example, in Python's interactive shell, the last result of an expression is automatically assigned to the variable _. This is a useful shorthand when testing code and quickly accessing the result of the last operation.\n",
    "\n",
    "Here is an example of declaring a variable with a single underscore:\n",
    "_ = 10\n",
    "print(_)\n",
    "\n",
    "In this example, the underscore character is used as the variable name, and it is assigned the value 10. The print() function then outputs the value of the variable _, which is 10.\n",
    "\n",
    "Note that while this is possible, it is generally not recommended to use a single underscore as a variable name, as it can be confusing and harder to read than more descriptive names."
   ]
  },
  {
   "cell_type": "markdown",
   "id": "233bef76-3eb0-4314-84d4-2ef32fd6e22f",
   "metadata": {},
   "source": [
    "Q5. Using an example, explain how the variables in python are dynamic in nature."
   ]
  },
  {
   "cell_type": "markdown",
   "id": "b73d5ef0-bac1-4d89-afbf-6803f31f133d",
   "metadata": {},
   "source": [
    "In Python, variables are dynamic in nature, which means that the type of a variable can change at runtime. This allows us to write code that is more flexible and easier to read than in some other programming languages.\n",
    "\n",
    "Here is an example that demonstrates how variables in Python are dynamic:\n",
    "\n",
    "x = 10\n",
    "print(x)  # outputs: 10\n",
    "\n",
    "x = \"hello\"\n",
    "print(x)  # outputs: hello\n",
    "\n",
    "In this example, we first assign the integer value 10 to the variable x and print its value. The output is 10, as expected.\n",
    "\n",
    "We then assign the string value \"hello\" to the same variable x and print its value again. This time, the output is \"hello\"."
   ]
  },
  {
   "cell_type": "code",
   "execution_count": null,
   "id": "dd4bfdfe-0817-4cee-ad62-0dc444fb7f62",
   "metadata": {},
   "outputs": [],
   "source": []
  }
 ],
 "metadata": {
  "kernelspec": {
   "display_name": "Python 3 (ipykernel)",
   "language": "python",
   "name": "python3"
  },
  "language_info": {
   "codemirror_mode": {
    "name": "ipython",
    "version": 3
   },
   "file_extension": ".py",
   "mimetype": "text/x-python",
   "name": "python",
   "nbconvert_exporter": "python",
   "pygments_lexer": "ipython3",
   "version": "3.10.8"
  }
 },
 "nbformat": 4,
 "nbformat_minor": 5
}

{
 "cells": [
  {
   "cell_type": "raw",
   "id": "f153cc39-f76a-489e-b68d-1181469c27a8",
   "metadata": {},
   "source": [
    "Answer 1 : MongoDB is a popular open-source NoSQL (non-relational) database that stores data in a flexible, JSON-like format called BSON (Binary JSON). It is designed to handle large volumes of unstructured or semi-structured data and provides high performance, scalability, and flexibility. MongoDB uses a document-oriented data model, where data is stored in collections of JSON-like documents rather than in tables with rows and columns like traditional SQL databases.\n",
    "\n",
    "Non-relational databases, such as MongoDB, differ from relational databases (SQL databases) in several key aspects:\n",
    "\n",
    "Schema flexibility: Non-relational databases offer schema flexibility, allowing each record (document) to have its own structure. This means that different records within the same collection can have different fields and data types, which can be advantageous for handling dynamic or evolving data.\n",
    "\n",
    "Scalability: Non-relational databases are often more scalable than relational databases, particularly in distributed environments. They can easily scale out horizontally across multiple servers or nodes to handle increasing data volumes and traffic.\n",
    "\n",
    "Querying flexibility: Non-relational databases often provide flexible query languages or APIs tailored to specific data models. While SQL databases use SQL as the standard query language, NoSQL databases may offer query interfaces optimized for key-value stores, document stores, wide-column stores, or graph databases.\n",
    "\n",
    "Performance: Non-relational databases are typically optimized for specific use cases and can offer high performance for certain types of queries and workloads. They may use different storage mechanisms and indexing strategies compared to relational databases.\n",
    "\n",
    "MongoDB is preferred over SQL databases in scenarios where:\n",
    "\n",
    "Schema flexibility is required: MongoDB's document-oriented data model allows for schema flexibility, making it suitable for applications with evolving or unstructured data.\n",
    "\n",
    "Horizontal scalability is needed: MongoDB can easily scale out horizontally across multiple nodes to handle growing data volumes and traffic, making it suitable for high-traffic web applications, IoT (Internet of Things) platforms, and other distributed systems.\n",
    "\n",
    "Frequent updates and real-time analytics: MongoDB's flexible data model and high-performance indexing make it well-suited for applications that require real-time analytics, frequent updates, or complex queries on large datasets.\n",
    "\n",
    "Development speed and agility: MongoDB's JSON-like documents and flexible schema make it easy to develop and iterate on applications quickly, especially in agile development environments."
   ]
  },
  {
   "cell_type": "raw",
   "id": "7162df7a-c42e-4980-bd1f-4affe2ab5c72",
   "metadata": {},
   "source": [
    "Answer 2:MongoDB is a popular open-source NoSQL database that offers a range of features designed to meet the needs of modern applications. Here are some key features of MongoDB along with explanations:\n",
    "\n",
    "Document-Oriented: MongoDB stores data in flexible, JSON-like documents called BSON (Binary JSON). Each document can have its own unique structure, allowing for easy storage of heterogeneous data.\n",
    "\n",
    "Schema Flexibility: Unlike traditional relational databases, MongoDB does not require a predefined schema. This means that documents within a collection can have different fields and data types, providing schema flexibility and accommodating evolving data requirements.\n",
    "\n",
    "High Performance: MongoDB is optimized for performance, with support for in-memory computing, horizontal scaling across multiple nodes, and a flexible indexing system that allows for efficient querying of large datasets.\n",
    "\n",
    "Horizontal Scalability: MongoDB can scale out horizontally across multiple servers or nodes to handle increasing data volumes and traffic. It supports sharding, a method of partitioning data across multiple servers, which enables linear scalability and improved fault tolerance.\n",
    "\n",
    "Automatic Failover: MongoDB provides built-in support for automatic failover and replication. It uses replica sets, which are groups of MongoDB instances that maintain identical copies of data. If a primary node fails, one of the secondary nodes automatically takes over as the new primary, ensuring high availability and data durability.\n",
    "\n",
    "Rich Query Language: MongoDB provides a powerful and expressive query language that supports a wide range of operations, including CRUD (Create, Read, Update, Delete), aggregation, text search, geospatial queries, and more. It also supports ad-hoc queries, allowing developers to query and analyze data in real-time.\n",
    "\n",
    "Indexes: MongoDB supports various types of indexes, including single-field, compound, geospatial, and text indexes, which can significantly improve query performance by reducing the time required to search and retrieve data.\n",
    "\n",
    "Flexible Deployment Options: MongoDB can be deployed on-premises, in the cloud, or in hybrid environments. It supports various deployment options, including standalone instances, replica sets, and sharded clusters, allowing organizations to choose the deployment model that best suits their needs.\n",
    "\n",
    "Security Features: MongoDB offers robust security features to protect data at rest and in transit. It supports authentication, encryption, role-based access control (RBAC), auditing, and fine-grained access controls, helping organizations comply with regulatory requirements and secure sensitive data.\n",
    "\n",
    "Community and Ecosystem: MongoDB has a vibrant and active community of developers, users, and contributors. It offers comprehensive documentation, tutorials, and online resources, as well as a rich ecosystem of third-party tools, libraries, and integrations to enhance productivity and extend the capabilities of MongoDB."
   ]
  },
  {
   "cell_type": "raw",
   "id": "1a83ebd2-33c6-417e-ac83-2c20cdb135f2",
   "metadata": {},
   "source": [
    "Answer 3: import pymongo\n",
    "\n",
    "# Connect to MongoDB server\n",
    "client = pymongo.MongoClient(\"mongodb://localhost:27017/\")\n",
    "\n",
    "# Create a new database named \"mydatabase\"\n",
    "mydb = client[\"mydatabase\"]\n",
    "\n",
    "# Create a new collection named \"customers\" in the \"mydatabase\" database\n",
    "mycol = mydb[\"customers\"]\n",
    "\n",
    "# Insert a document into the \"customers\" collection\n",
    "customer = {\"name\": \"John\", \"email\": \"john@example.com\", \"age\": 30}\n",
    "insert_result = mycol.insert_one(customer)\n",
    "\n",
    "# Print the unique identifier (_id) of the inserted document\n",
    "print(\"Inserted document ID:\", insert_result.inserted_id)\n",
    "\n",
    "# Close the MongoDB connection\n",
    "client.close()\n"
   ]
  },
  {
   "cell_type": "raw",
   "id": "274b5594-6e10-4d70-8628-dc613e4c07d8",
   "metadata": {},
   "source": [
    "In this code:\n",
    "\n",
    "We first import the pymongo library, which is the official Python driver for MongoDB.\n",
    "\n",
    "We then connect to the MongoDB server running on localhost and the default port 27017 using the MongoClient class.\n",
    "\n",
    "We create a new database named \"mydatabase\" using dictionary-style access on the client object.\n",
    "\n",
    "We create a new collection named \"customers\" within the \"mydatabase\" database using dictionary-style access on the mydb object.\n",
    "\n",
    "We insert a document (a Python dictionary) containing customer information into the \"customers\" collection using the insert_one() method. The _id field is automatically generated by MongoDB for the inserted document.\n",
    "\n",
    "Finally, we print the _id of the inserted document and close the MongoDB connection using the close() method."
   ]
  },
  {
   "cell_type": "raw",
   "id": "64d1f42a-e921-4c2c-9231-0d34da5689fa",
   "metadata": {},
   "source": [
    "Answer 4:import pymongo\n",
    "\n",
    "# Connect to MongoDB server\n",
    "client = pymongo.MongoClient(\"mongodb://localhost:27017/\")\n",
    "\n",
    "# Access the \"mydatabase\" database\n",
    "mydb = client[\"mydatabase\"]\n",
    "\n",
    "# Access the \"customers\" collection\n",
    "mycol = mydb[\"customers\"]\n",
    "\n",
    "# Insert one record\n",
    "customer_one = {\"name\": \"Alice\", \"email\": \"alice@example.com\", \"age\": 25}\n",
    "insert_result_one = mycol.insert_one(customer_one)\n",
    "\n",
    "# Insert multiple records\n",
    "customers_many = [\n",
    "    {\"name\": \"Bob\", \"email\": \"bob@example.com\", \"age\": 35},\n",
    "    {\"name\": \"Charlie\", \"email\": \"charlie@example.com\", \"age\": 40}\n",
    "]\n",
    "insert_result_many = mycol.insert_many(customers_many)\n",
    "\n",
    "# Print the inserted record using find_one()\n",
    "print(\"Inserted record using find_one():\")\n",
    "print(mycol.find_one({\"name\": \"Alice\"}))\n",
    "print()\n",
    "\n",
    "# Print all inserted records using find()\n",
    "print(\"Inserted records using find():\")\n",
    "for record in mycol.find():\n",
    "    print(record)\n",
    "\n",
    "# Close the MongoDB connection\n",
    "client.close()\n"
   ]
  },
  {
   "cell_type": "raw",
   "id": "25e9dd8d-e41f-4482-950f-cf5482e7edf3",
   "metadata": {},
   "source": [
    "Answer 5:# Retrieve all documents from the collection\n",
    "result = mycol.find()\n",
    "for document in result:\n",
    "    print(document)\n"
   ]
  },
  {
   "cell_type": "raw",
   "id": "072f8440-287a-41b5-9dc9-2b0a90b47a99",
   "metadata": {},
   "source": [
    "Answer 6: In MongoDB, the sort() method is used to sort the documents returned by a query based on one or more fields. It allows you to specify the sort order (ascending or descending) for the query result.\n",
    "\n",
    "The sort() method takes one or more parameters:\n",
    "\n",
    "Field(s) to sort by: You specify the field(s) by which you want to sort the documents. This can be a single field or a list of fields. You can also use dot notation to specify fields within embedded documents or arrays.\n",
    "\n",
    "Sort order: You specify the sort order for each field. The sort order can be either pymongo.ASCENDING (1) for ascending order or pymongo.DESCENDING (-1) for descending order.\n",
    "\n",
    "Here's the syntax of the sort() method:\n",
    "\n",
    "collection.find().sort(field1, order1).sort(field2, order2)...\n",
    "\n",
    "\n",
    "Suppose we have a collection named \"students\" with documents containing student details:\n",
    "\n"
   ]
  }
 ],
 "metadata": {
  "kernelspec": {
   "display_name": "Python 3 (ipykernel)",
   "language": "python",
   "name": "python3"
  },
  "language_info": {
   "codemirror_mode": {
    "name": "ipython",
    "version": 3
   },
   "file_extension": ".py",
   "mimetype": "text/x-python",
   "name": "python",
   "nbconvert_exporter": "python",
   "pygments_lexer": "ipython3",
   "version": "3.10.8"
  }
 },
 "nbformat": 4,
 "nbformat_minor": 5
}
